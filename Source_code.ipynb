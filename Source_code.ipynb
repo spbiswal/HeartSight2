{
  "cells": [
    {
      "cell_type": "code",
      "execution_count": 11,
      "metadata": {
        "id": "G-L4tZrOl4FJ"
      },
      "outputs": [],
      "source": [
        "import pandas as pd\n",
        "import seaborn as sns\n",
        "import matplotlib.pyplot as plt\n",
        "from tabulate import tabulate\n",
        "from sklearn.metrics import accuracy_score, precision_score, recall_score, f1_score, jaccard_score"
      ]
    },
    {
      "cell_type": "code",
      "execution_count": 12,
      "metadata": {
        "colab": {
          "base_uri": "https://localhost:8080/"
        },
        "id": "iElpM0x6i6yu",
        "outputId": "b0756885-5684-4292-f575-1012bc09b2fd"
      },
      "outputs": [
        {
          "name": "stdout",
          "output_type": "stream",
          "text": [
            "Counts before balancing:\n",
            "FutureCHD\n",
            "0    3596\n",
            "1     644\n",
            "Name: count, dtype: int64\n"
          ]
        }
      ],
      "source": [
        "import pandas as pd\n",
        "\n",
        "# Load the dataset\n",
        "df = pd.read_csv(\"framingham.csv\")\n",
        "\n",
        "# Display counts of 0s and 1s in FutureCHD before balancing\n",
        "before_counts = df['FutureCHD'].value_counts()\n",
        "print(\"Counts before balancing:\")\n",
        "print(before_counts)\n",
        "\n"
      ]
    },
    {
      "cell_type": "code",
      "execution_count": 13,
      "metadata": {
        "colab": {
          "base_uri": "https://localhost:8080/",
          "height": 725
        },
        "id": "BwWoWjTyfTpi",
        "outputId": "26408d19-1a9e-4726-a0a7-ae10bebb1bfc"
      },
      "outputs": [
        {
          "name": "stdout",
          "output_type": "stream",
          "text": [
            "Counts before balancing:\n",
            "FutureCHD\n",
            "0    3596\n",
            "1     644\n",
            "Name: count, dtype: int64\n"
          ]
        },
        {
          "name": "stderr",
          "output_type": "stream",
          "text": [
            "C:\\Users\\spbis\\AppData\\Local\\Temp\\ipykernel_15000\\3338393328.py:13: FutureWarning: \n",
            "\n",
            "Passing `palette` without assigning `hue` is deprecated and will be removed in v0.14.0. Assign the `x` variable to `hue` and set `legend=False` for the same effect.\n",
            "\n",
            "  sns.countplot(x='FutureCHD', data=df, palette='Set1')\n"
          ]
        },
        {
          "data": {
            "image/png": "[encoded data removed]",
            "text/plain": [
              "<Figure size 800x600 with 1 Axes>"
            ]
          },
          "metadata": {},
          "output_type": "display_data"
        }
      ],
      "source": [
        "import matplotlib.pyplot as plt\n",
        "import seaborn as sns\n",
        "\n",
        "# Assuming df is your DataFrame and 'FutureCHD' is the column of interest\n",
        "before_counts = df['FutureCHD'].value_counts()\n",
        "\n",
        "# Print counts before balancing\n",
        "print(\"Counts before balancing:\")\n",
        "print(before_counts)\n",
        "\n",
        "# Plotting the counts\n",
        "plt.figure(figsize=(8, 6))\n",
        "sns.countplot(x='FutureCHD', data=df, palette='Set1')\n",
        "\n",
        "# Adding counts as text on the plot\n",
        "for i, count in enumerate(before_counts):\n",
        "    plt.text(i, count+10, str(count), ha='center', fontsize=12)\n",
        "\n",
        "\n",
        "plt.xlabel('FutureCHD')\n",
        "plt.ylabel('Count')\n",
        "plt.xticks([0, 1], ['No Coronary Heart Disease', 'Coronary Heart Disease'])\n",
        "\n",
        "plt.show()\n"
      ]
    },
    {
      "cell_type": "code",
      "execution_count": 14,
      "metadata": {
        "colab": {
          "base_uri": "https://localhost:8080/",
          "height": 423
        },
        "id": "ZcMXhHw8e9Is",
        "outputId": "348e9101-6bb5-4c89-c3e6-4809550b39ab"
      },
      "outputs": [
        {
          "data": {
            "text/html": [
              "<div>\n",
              "<style scoped>\n",
              "    .dataframe tbody tr th:only-of-type {\n",
              "        vertical-align: middle;\n",
              "    }\n",
              "\n",
              "    .dataframe tbody tr th {\n",
              "        vertical-align: top;\n",
              "    }\n",
              "\n",
              "    .dataframe thead th {\n",
              "        text-align: right;\n",
              "    }\n",
              "</style>\n",
              "<table border=\"1\" class=\"dataframe\">\n",
              "  <thead>\n",
              "    <tr style=\"text-align: right;\">\n",
              "      <th></th>\n",
              "      <th>gender</th>\n",
              "      <th>age</th>\n",
              "      <th>education</th>\n",
              "      <th>currentSmoker</th>\n",
              "      <th>cigsPerDay</th>\n",
              "      <th>BPMeds</th>\n",
              "      <th>prevalentStroke</th>\n",
              "      <th>prevalentHyp</th>\n",
              "      <th>diabetes</th>\n",
              "      <th>totChol</th>\n",
              "      <th>sysBP</th>\n",
              "      <th>diaBP</th>\n",
              "      <th>BMI</th>\n",
              "      <th>heartRate</th>\n",
              "      <th>glucose</th>\n",
              "      <th>FutureCHD</th>\n",
              "    </tr>\n",
              "  </thead>\n",
              "  <tbody>\n",
              "    <tr>\n",
              "      <th>0</th>\n",
              "      <td>1</td>\n",
              "      <td>39</td>\n",
              "      <td>4.0</td>\n",
              "      <td>0</td>\n",
              "      <td>0.0</td>\n",
              "      <td>0.0</td>\n",
              "      <td>0</td>\n",
              "      <td>0</td>\n",
              "      <td>0</td>\n",
              "      <td>195.0</td>\n",
              "      <td>106.0</td>\n",
              "      <td>70.0</td>\n",
              "      <td>26.97</td>\n",
              "      <td>80.0</td>\n",
              "      <td>77.0</td>\n",
              "      <td>0</td>\n",
              "    </tr>\n",
              "    <tr>\n",
              "      <th>1</th>\n",
              "      <td>0</td>\n",
              "      <td>46</td>\n",
              "      <td>2.0</td>\n",
              "      <td>0</td>\n",
              "      <td>0.0</td>\n",
              "      <td>0.0</td>\n",
              "      <td>0</td>\n",
              "      <td>0</td>\n",
              "      <td>0</td>\n",
              "      <td>250.0</td>\n",
              "      <td>121.0</td>\n",
              "      <td>81.0</td>\n",
              "      <td>28.73</td>\n",
              "      <td>95.0</td>\n",
              "      <td>76.0</td>\n",
              "      <td>0</td>\n",
              "    </tr>\n",
              "    <tr>\n",
              "      <th>2</th>\n",
              "      <td>1</td>\n",
              "      <td>48</td>\n",
              "      <td>1.0</td>\n",
              "      <td>1</td>\n",
              "      <td>20.0</td>\n",
              "      <td>0.0</td>\n",
              "      <td>0</td>\n",
              "      <td>0</td>\n",
              "      <td>0</td>\n",
              "      <td>245.0</td>\n",
              "      <td>127.5</td>\n",
              "      <td>80.0</td>\n",
              "      <td>25.34</td>\n",
              "      <td>75.0</td>\n",
              "      <td>70.0</td>\n",
              "      <td>0</td>\n",
              "    </tr>\n",
              "    <tr>\n",
              "      <th>3</th>\n",
              "      <td>0</td>\n",
              "      <td>61</td>\n",
              "      <td>3.0</td>\n",
              "      <td>1</td>\n",
              "      <td>30.0</td>\n",
              "      <td>0.0</td>\n",
              "      <td>0</td>\n",
              "      <td>1</td>\n",
              "      <td>0</td>\n",
              "      <td>225.0</td>\n",
              "      <td>150.0</td>\n",
              "      <td>95.0</td>\n",
              "      <td>28.58</td>\n",
              "      <td>65.0</td>\n",
              "      <td>103.0</td>\n",
              "      <td>1</td>\n",
              "    </tr>\n",
              "    <tr>\n",
              "      <th>4</th>\n",
              "      <td>0</td>\n",
              "      <td>46</td>\n",
              "      <td>3.0</td>\n",
              "      <td>1</td>\n",
              "      <td>23.0</td>\n",
              "      <td>0.0</td>\n",
              "      <td>0</td>\n",
              "      <td>0</td>\n",
              "      <td>0</td>\n",
              "      <td>285.0</td>\n",
              "      <td>130.0</td>\n",
              "      <td>84.0</td>\n",
              "      <td>23.10</td>\n",
              "      <td>85.0</td>\n",
              "      <td>85.0</td>\n",
              "      <td>0</td>\n",
              "    </tr>\n",
              "    <tr>\n",
              "      <th>...</th>\n",
              "      <td>...</td>\n",
              "      <td>...</td>\n",
              "      <td>...</td>\n",
              "      <td>...</td>\n",
              "      <td>...</td>\n",
              "      <td>...</td>\n",
              "      <td>...</td>\n",
              "      <td>...</td>\n",
              "      <td>...</td>\n",
              "      <td>...</td>\n",
              "      <td>...</td>\n",
              "      <td>...</td>\n",
              "      <td>...</td>\n",
              "      <td>...</td>\n",
              "      <td>...</td>\n",
              "      <td>...</td>\n",
              "    </tr>\n",
              "    <tr>\n",
              "      <th>3740</th>\n",
              "      <td>1</td>\n",
              "      <td>50</td>\n",
              "      <td>1.0</td>\n",
              "      <td>1</td>\n",
              "      <td>1.0</td>\n",
              "      <td>0.0</td>\n",
              "      <td>0</td>\n",
              "      <td>1</td>\n",
              "      <td>0</td>\n",
              "      <td>313.0</td>\n",
              "      <td>179.0</td>\n",
              "      <td>92.0</td>\n",
              "      <td>25.97</td>\n",
              "      <td>66.0</td>\n",
              "      <td>86.0</td>\n",
              "      <td>1</td>\n",
              "    </tr>\n",
              "    <tr>\n",
              "      <th>3741</th>\n",
              "      <td>1</td>\n",
              "      <td>51</td>\n",
              "      <td>3.0</td>\n",
              "      <td>1</td>\n",
              "      <td>43.0</td>\n",
              "      <td>0.0</td>\n",
              "      <td>0</td>\n",
              "      <td>0</td>\n",
              "      <td>0</td>\n",
              "      <td>207.0</td>\n",
              "      <td>126.5</td>\n",
              "      <td>80.0</td>\n",
              "      <td>19.71</td>\n",
              "      <td>65.0</td>\n",
              "      <td>68.0</td>\n",
              "      <td>0</td>\n",
              "    </tr>\n",
              "    <tr>\n",
              "      <th>3742</th>\n",
              "      <td>0</td>\n",
              "      <td>52</td>\n",
              "      <td>2.0</td>\n",
              "      <td>0</td>\n",
              "      <td>0.0</td>\n",
              "      <td>0.0</td>\n",
              "      <td>0</td>\n",
              "      <td>0</td>\n",
              "      <td>0</td>\n",
              "      <td>269.0</td>\n",
              "      <td>133.5</td>\n",
              "      <td>83.0</td>\n",
              "      <td>21.47</td>\n",
              "      <td>80.0</td>\n",
              "      <td>107.0</td>\n",
              "      <td>0</td>\n",
              "    </tr>\n",
              "    <tr>\n",
              "      <th>3743</th>\n",
              "      <td>1</td>\n",
              "      <td>40</td>\n",
              "      <td>3.0</td>\n",
              "      <td>0</td>\n",
              "      <td>0.0</td>\n",
              "      <td>0.0</td>\n",
              "      <td>0</td>\n",
              "      <td>1</td>\n",
              "      <td>0</td>\n",
              "      <td>185.0</td>\n",
              "      <td>141.0</td>\n",
              "      <td>98.0</td>\n",
              "      <td>25.60</td>\n",
              "      <td>67.0</td>\n",
              "      <td>72.0</td>\n",
              "      <td>0</td>\n",
              "    </tr>\n",
              "    <tr>\n",
              "      <th>3744</th>\n",
              "      <td>0</td>\n",
              "      <td>39</td>\n",
              "      <td>3.0</td>\n",
              "      <td>1</td>\n",
              "      <td>30.0</td>\n",
              "      <td>0.0</td>\n",
              "      <td>0</td>\n",
              "      <td>0</td>\n",
              "      <td>0</td>\n",
              "      <td>196.0</td>\n",
              "      <td>133.0</td>\n",
              "      <td>86.0</td>\n",
              "      <td>20.91</td>\n",
              "      <td>85.0</td>\n",
              "      <td>80.0</td>\n",
              "      <td>0</td>\n",
              "    </tr>\n",
              "  </tbody>\n",
              "</table>\n",
              "<p>3745 rows × 16 columns</p>\n",
              "</div>"
            ],
            "text/plain": [
              "      gender  age  education  currentSmoker  cigsPerDay  BPMeds  \\\n",
              "0          1   39        4.0              0         0.0     0.0   \n",
              "1          0   46        2.0              0         0.0     0.0   \n",
              "2          1   48        1.0              1        20.0     0.0   \n",
              "3          0   61        3.0              1        30.0     0.0   \n",
              "4          0   46        3.0              1        23.0     0.0   \n",
              "...      ...  ...        ...            ...         ...     ...   \n",
              "3740       1   50        1.0              1         1.0     0.0   \n",
              "3741       1   51        3.0              1        43.0     0.0   \n",
              "3742       0   52        2.0              0         0.0     0.0   \n",
              "3743       1   40        3.0              0         0.0     0.0   \n",
              "3744       0   39        3.0              1        30.0     0.0   \n",
              "\n",
              "      prevalentStroke  prevalentHyp  diabetes  totChol  sysBP  diaBP    BMI  \\\n",
              "0                   0             0         0    195.0  106.0   70.0  26.97   \n",
              "1                   0             0         0    250.0  121.0   81.0  28.73   \n",
              "2                   0             0         0    245.0  127.5   80.0  25.34   \n",
              "3                   0             1         0    225.0  150.0   95.0  28.58   \n",
              "4                   0             0         0    285.0  130.0   84.0  23.10   \n",
              "...               ...           ...       ...      ...    ...    ...    ...   \n",
              "3740                0             1         0    313.0  179.0   92.0  25.97   \n",
              "3741                0             0         0    207.0  126.5   80.0  19.71   \n",
              "3742                0             0         0    269.0  133.5   83.0  21.47   \n",
              "3743                0             1         0    185.0  141.0   98.0  25.60   \n",
              "3744                0             0         0    196.0  133.0   86.0  20.91   \n",
              "\n",
              "      heartRate  glucose  FutureCHD  \n",
              "0          80.0     77.0          0  \n",
              "1          95.0     76.0          0  \n",
              "2          75.0     70.0          0  \n",
              "3          65.0    103.0          1  \n",
              "4          85.0     85.0          0  \n",
              "...         ...      ...        ...  \n",
              "3740       66.0     86.0          1  \n",
              "3741       65.0     68.0          0  \n",
              "3742       80.0    107.0          0  \n",
              "3743       67.0     72.0          0  \n",
              "3744       85.0     80.0          0  \n",
              "\n",
              "[3745 rows x 16 columns]"
            ]
          },
          "execution_count": 14,
          "metadata": {},
          "output_type": "execute_result"
        }
      ],
      "source": [
        "# Drop rows where FutureCHD=0 and any column has missing values\n",
        "df.drop(df[(df['FutureCHD'] == 0) & df.isnull().any(axis=1)].index, inplace=True)\n",
        "\n",
        "# Reset index after dropping rows\n",
        "df.reset_index(drop=True, inplace=True)\n",
        "df"
      ]
    },
    {
      "cell_type": "code",
      "execution_count": 15,
      "metadata": {},
      "outputs": [],
      "source": [
        "# Identify rows where FutureCHD=0\n",
        "rows_to_drop = df[df['FutureCHD'] == 0].index[:2000]\n",
        "\n",
        "# Drop the identified rows\n",
        "df.drop(rows_to_drop, inplace=True)\n",
        "\n",
        "# Reset index after dropping rows\n",
        "df.reset_index(drop=True, inplace=True)\n"
      ]
    },
    {
      "cell_type": "markdown",
      "metadata": {
        "id": "hXc8plBzra2U"
      },
      "source": [
        "# Preprocessing"
      ]
    },
    {
      "cell_type": "code",
      "execution_count": 16,
      "metadata": {
        "colab": {
          "base_uri": "https://localhost:8080/",
          "height": 725
        },
        "id": "12FLBuswe1Q6",
        "outputId": "789c310e-7772-413b-b6d6-f726bd1d897b"
      },
      "outputs": [
        {
          "name": "stdout",
          "output_type": "stream",
          "text": [
            "Counts before balancing:\n",
            "FutureCHD\n",
            "0    1101\n",
            "1     644\n",
            "Name: count, dtype: int64\n"
          ]
        },
        {
          "name": "stderr",
          "output_type": "stream",
          "text": [
            "C:\\Users\\spbis\\AppData\\Local\\Temp\\ipykernel_15000\\3338393328.py:13: FutureWarning: \n",
            "\n",
            "Passing `palette` without assigning `hue` is deprecated and will be removed in v0.14.0. Assign the `x` variable to `hue` and set `legend=False` for the same effect.\n",
            "\n",
            "  sns.countplot(x='FutureCHD', data=df, palette='Set1')\n"
          ]
        },
        {
          "data": {
            "image/png": "[encoded data removed]",
            "text/plain": [
              "<Figure size 800x600 with 1 Axes>"
            ]
          },
          "metadata": {},
          "output_type": "display_data"
        }
      ],
      "source": [
        "import matplotlib.pyplot as plt\n",
        "import seaborn as sns\n",
        "\n",
        "# Assuming df is your DataFrame and 'FutureCHD' is the column of interest\n",
        "before_counts = df['FutureCHD'].value_counts()\n",
        "\n",
        "# Print counts before balancing\n",
        "print(\"Counts before balancing:\")\n",
        "print(before_counts)\n",
        "\n",
        "# Plotting the counts\n",
        "plt.figure(figsize=(8, 6))\n",
        "sns.countplot(x='FutureCHD', data=df, palette='Set1')\n",
        "\n",
        "# Adding counts as text on the plot\n",
        "for i, count in enumerate(before_counts):\n",
        "    plt.text(i, count+10, str(count), ha='center', fontsize=12)\n",
        "\n",
        "\n",
        "plt.xlabel('FutureCHD')\n",
        "plt.ylabel('Count')\n",
        "plt.xticks([0, 1], ['No Coronary Heart Disease', 'Coronary Heart Disease'])\n",
        "\n",
        "plt.show()\n"
      ]
    },
    {
      "cell_type": "code",
      "execution_count": null,
      "metadata": {
        "id": "yviTZ-pee5z9"
      },
      "outputs": [],
      "source": []
    },
    {
      "cell_type": "code",
      "execution_count": 17,
      "metadata": {
        "colab": {
          "base_uri": "https://localhost:8080/"
        },
        "id": "gph5fN36k-VC",
        "outputId": "230ebf37-4a61-4223-f939-80cf92d24e52"
      },
      "outputs": [
        {
          "name": "stdout",
          "output_type": "stream",
          "text": [
            "Missing values per column:\n",
            "gender              0\n",
            "age                 0\n",
            "education          16\n",
            "currentSmoker       0\n",
            "cigsPerDay          2\n",
            "BPMeds             11\n",
            "prevalentStroke     0\n",
            "prevalentHyp        0\n",
            "diabetes            0\n",
            "totChol             9\n",
            "sysBP               0\n",
            "diaBP               0\n",
            "BMI                10\n",
            "heartRate           1\n",
            "glucose            50\n",
            "FutureCHD           0\n",
            "dtype: int64\n"
          ]
        }
      ],
      "source": [
        "# Check for missing values\n",
        "missing_values = df.isnull().sum()\n",
        "\n",
        "print(\"Missing values per column:\")\n",
        "print(missing_values)"
      ]
    },
    {
      "cell_type": "code",
      "execution_count": 18,
      "metadata": {
        "id": "VsupvkZTlbSo"
      },
      "outputs": [],
      "source": [
        "# Impute remaining missing values with mean\n",
        "df.fillna(df.mean(), inplace=True)\n",
        "\n",
        "# Reset index after dropping rows and imputing missing values\n",
        "df.reset_index(drop=True, inplace=True)"
      ]
    },
    {
      "cell_type": "code",
      "execution_count": 19,
      "metadata": {
        "colab": {
          "base_uri": "https://localhost:8080/"
        },
        "id": "fx5AyviolcvM",
        "outputId": "dde36afe-ac9a-4e4f-d39d-a4bc05d0ce16"
      },
      "outputs": [
        {
          "name": "stdout",
          "output_type": "stream",
          "text": [
            "Missing values per column:\n",
            "gender             0\n",
            "age                0\n",
            "education          0\n",
            "currentSmoker      0\n",
            "cigsPerDay         0\n",
            "BPMeds             0\n",
            "prevalentStroke    0\n",
            "prevalentHyp       0\n",
            "diabetes           0\n",
            "totChol            0\n",
            "sysBP              0\n",
            "diaBP              0\n",
            "BMI                0\n",
            "heartRate          0\n",
            "glucose            0\n",
            "FutureCHD          0\n",
            "dtype: int64\n"
          ]
        }
      ],
      "source": [
        "# Check for missing values\n",
        "missing_values = df.isnull().sum()\n",
        "\n",
        "print(\"Missing values per column:\")\n",
        "print(missing_values)"
      ]
    },
    {
      "cell_type": "markdown",
      "metadata": {
        "id": "vS6Z8qGHi8Y8"
      },
      "source": [
        "# With Correaltion Without data balancing"
      ]
    },
    {
      "cell_type": "code",
      "execution_count": 20,
      "metadata": {
        "id": "2O3xD0iOjpti"
      },
      "outputs": [],
      "source": [
        "df2=df\n",
        "\n",
        "df2.drop(columns=['cigsPerDay','diaBP', 'education'], inplace=True)"
      ]
    },
    {
      "cell_type": "code",
      "execution_count": 21,
      "metadata": {
        "id": "QR-zaVxIi7aj"
      },
      "outputs": [],
      "source": [
        "# separate input and output\n",
        "X=df2.drop(columns=['FutureCHD'])\n",
        "Y=df2['FutureCHD']\n",
        "\n",
        "# split the data for training and testing\n",
        "from sklearn.model_selection import train_test_split\n",
        "X_train,X_test,Y_train,Y_test=train_test_split(X,Y,test_size=0.2, random_state=42)"
      ]
    },
    {
      "cell_type": "code",
      "execution_count": 22,
      "metadata": {
        "colab": {
          "base_uri": "https://localhost:8080/"
        },
        "id": "7v5wSLpJjLd8",
        "outputId": "9f94bf61-1685-4d2f-9b72-c710e251e981"
      },
      "outputs": [
        {
          "name": "stdout",
          "output_type": "stream",
          "text": [
            "╒═══════════════╤══════════╕\n",
            "│ Metric        │    Value │\n",
            "╞═══════════════╪══════════╡\n",
            "│ Accuracy      │ 0.644699 │\n",
            "├───────────────┼──────────┤\n",
            "│ Precision     │ 0.5125   │\n",
            "├───────────────┼──────────┤\n",
            "│ Recall        │ 0.325397 │\n",
            "├───────────────┼──────────┤\n",
            "│ F1 Score      │ 0.398058 │\n",
            "├───────────────┼──────────┤\n",
            "│ Jaccard Index │ 0.248485 │\n",
            "╘═══════════════╧══════════╛\n"
          ]
        },
        {
          "name": "stderr",
          "output_type": "stream",
          "text": [
            "c:\\Users\\spbis\\AppData\\Local\\Programs\\Python\\Python312\\Lib\\site-packages\\sklearn\\linear_model\\_logistic.py:469: ConvergenceWarning: lbfgs failed to converge (status=1):\n",
            "STOP: TOTAL NO. of ITERATIONS REACHED LIMIT.\n",
            "\n",
            "Increase the number of iterations (max_iter) or scale the data as shown in:\n",
            "    https://scikit-learn.org/stable/modules/preprocessing.html\n",
            "Please also refer to the documentation for alternative solver options:\n",
            "    https://scikit-learn.org/stable/modules/linear_model.html#logistic-regression\n",
            "  n_iter_i = _check_optimize_result(\n"
          ]
        }
      ],
      "source": [
        "# Logistic Regression\n",
        "\n",
        "from sklearn.linear_model import LogisticRegression\n",
        "\n",
        "\n",
        "# Initialize and train the Logistic Regression model\n",
        "logistic_regression = LogisticRegression(random_state=42)\n",
        "logistic_regression.fit(X_train, Y_train)\n",
        "\n",
        "# Predictions\n",
        "Y_pred_lr = logistic_regression.predict(X_test)\n",
        "\n",
        "# Calculate evaluation metrics for Logistic Regression\n",
        "accuracy_lr = accuracy_score(Y_test, Y_pred_lr)\n",
        "precision_lr = precision_score(Y_test, Y_pred_lr)\n",
        "recall_lr = recall_score(Y_test, Y_pred_lr)\n",
        "f1_lr = f1_score(Y_test, Y_pred_lr)\n",
        "jaccard_lr = jaccard_score(Y_test, Y_pred_lr)\n",
        "\n",
        "table = [[\"Metric\", \"Value\"],\n",
        "         [\"Accuracy\", accuracy_lr],\n",
        "         [\"Precision\", precision_lr],\n",
        "         [\"Recall\", recall_lr],\n",
        "         [\"F1 Score\", f1_lr],\n",
        "         [\"Jaccard Index\", jaccard_lr]]\n",
        "\n",
        "# Print the table\n",
        "print(tabulate(table, headers=\"firstrow\", tablefmt=\"fancy_grid\"))"
      ]
    },
    {
      "cell_type": "code",
      "execution_count": 23,
      "metadata": {
        "colab": {
          "base_uri": "https://localhost:8080/"
        },
        "id": "R3VKTpwzj96L",
        "outputId": "37b8f143-cc34-4b41-9012-c84e10c94cc6"
      },
      "outputs": [
        {
          "name": "stdout",
          "output_type": "stream",
          "text": [
            "╒═══════════════╤══════════╕\n",
            "│ Metric        │    Value │\n",
            "╞═══════════════╪══════════╡\n",
            "│ Accuracy      │ 0.670487 │\n",
            "├───────────────┼──────────┤\n",
            "│ Precision     │ 0.553398 │\n",
            "├───────────────┼──────────┤\n",
            "│ Recall        │ 0.452381 │\n",
            "├───────────────┼──────────┤\n",
            "│ F1 Score      │ 0.497817 │\n",
            "├───────────────┼──────────┤\n",
            "│ Jaccard Index │ 0.331395 │\n",
            "╘═══════════════╧══════════╛\n"
          ]
        }
      ],
      "source": [
        "# KNN\n",
        "\n",
        "from sklearn.neighbors import KNeighborsClassifier\n",
        "\n",
        "# Initialize and train the KNN model\n",
        "knn = KNeighborsClassifier()\n",
        "knn.fit(X_train, Y_train)\n",
        "\n",
        "# Predictions\n",
        "Y_pred_knn = knn.predict(X_test)\n",
        "\n",
        "# Calculate evaluation metrics for KNN\n",
        "accuracy_knn = accuracy_score(Y_test, Y_pred_knn)\n",
        "precision_knn = precision_score(Y_test, Y_pred_knn)\n",
        "recall_knn = recall_score(Y_test, Y_pred_knn)\n",
        "f1_knn = f1_score(Y_test, Y_pred_knn)\n",
        "jaccard_knn = jaccard_score(Y_test, Y_pred_knn)\n",
        "\n",
        "# Create a table for the evaluation metrics\n",
        "table_knn = [[\"Metric\", \"Value\"],\n",
        "             [\"Accuracy\", accuracy_knn],\n",
        "             [\"Precision\", precision_knn],\n",
        "             [\"Recall\", recall_knn],\n",
        "             [\"F1 Score\", f1_knn],\n",
        "             [\"Jaccard Index\", jaccard_knn]]\n",
        "\n",
        "# Print the table for KNN\n",
        "print(tabulate(table_knn, headers=\"firstrow\", tablefmt=\"fancy_grid\"))\n"
      ]
    },
    {
      "cell_type": "code",
      "execution_count": 24,
      "metadata": {
        "colab": {
          "base_uri": "https://localhost:8080/"
        },
        "id": "0WAhCEj_kVeS",
        "outputId": "12eeb47a-4b26-4339-af44-1536b7e56a7e"
      },
      "outputs": [
        {
          "name": "stdout",
          "output_type": "stream",
          "text": [
            "╒═══════════════╤══════════╕\n",
            "│ Metric        │    Value │\n",
            "╞═══════════════╪══════════╡\n",
            "│ Accuracy      │ 0.667622 │\n",
            "├───────────────┼──────────┤\n",
            "│ Precision     │ 0.708333 │\n",
            "├───────────────┼──────────┤\n",
            "│ Recall        │ 0.134921 │\n",
            "├───────────────┼──────────┤\n",
            "│ F1 Score      │ 0.226667 │\n",
            "├───────────────┼──────────┤\n",
            "│ Jaccard Index │ 0.12782  │\n",
            "╘═══════════════╧══════════╛\n"
          ]
        }
      ],
      "source": [
        " # SVM\n",
        "\n",
        " from sklearn.svm import SVC\n",
        "\n",
        "# Initialize and train the SVM model\n",
        "svm_model = SVC(random_state=42)\n",
        "svm_model.fit(X_train, Y_train)\n",
        "\n",
        "# Predictions\n",
        "Y_pred_svm = svm_model.predict(X_test)\n",
        "\n",
        "# Calculate evaluation metrics for SVM\n",
        "accuracy_svm = accuracy_score(Y_test, Y_pred_svm)\n",
        "precision_svm = precision_score(Y_test, Y_pred_svm)\n",
        "recall_svm = recall_score(Y_test, Y_pred_svm)\n",
        "f1_svm = f1_score(Y_test, Y_pred_svm)\n",
        "jaccard_svm = jaccard_score(Y_test, Y_pred_svm)\n",
        "\n",
        "# Create a table for the evaluation metrics\n",
        "table_svm = [[\"Metric\", \"Value\"],\n",
        "             [\"Accuracy\", accuracy_svm],\n",
        "             [\"Precision\", precision_svm],\n",
        "             [\"Recall\", recall_svm],\n",
        "             [\"F1 Score\", f1_svm],\n",
        "             [\"Jaccard Index\", jaccard_svm]]\n",
        "\n",
        "# Print the table for SVM\n",
        "print(tabulate(table_svm, headers=\"firstrow\", tablefmt=\"fancy_grid\"))\n"
      ]
    },
    {
      "cell_type": "code",
      "execution_count": 25,
      "metadata": {
        "colab": {
          "base_uri": "https://localhost:8080/"
        },
        "id": "YnezVxv8kh1K",
        "outputId": "ad03a669-d5b8-4f3d-eda6-c3727974edae"
      },
      "outputs": [
        {
          "name": "stdout",
          "output_type": "stream",
          "text": [
            "╒═══════════════╤══════════╕\n",
            "│ Metric        │    Value │\n",
            "╞═══════════════╪══════════╡\n",
            "│ Accuracy      │ 0.653295 │\n",
            "├───────────────┼──────────┤\n",
            "│ Precision     │ 0.527473 │\n",
            "├───────────────┼──────────┤\n",
            "│ Recall        │ 0.380952 │\n",
            "├───────────────┼──────────┤\n",
            "│ F1 Score      │ 0.442396 │\n",
            "├───────────────┼──────────┤\n",
            "│ Jaccard Index │ 0.284024 │\n",
            "╘═══════════════╧══════════╛\n"
          ]
        }
      ],
      "source": [
        "# Random Forest Classifier\n",
        "\n",
        "from sklearn.ensemble import RandomForestClassifier\n",
        "\n",
        "\n",
        "# Initialize and train the Random Forest model\n",
        "random_forest = RandomForestClassifier(random_state=42)\n",
        "random_forest.fit(X_train, Y_train)\n",
        "\n",
        "# Predictions\n",
        "Y_pred_rf = random_forest.predict(X_test)\n",
        "\n",
        "# Calculate evaluation metrics for Random Forest\n",
        "accuracy_rf = accuracy_score(Y_test, Y_pred_rf)\n",
        "precision_rf = precision_score(Y_test, Y_pred_rf)\n",
        "recall_rf = recall_score(Y_test, Y_pred_rf)\n",
        "f1_rf = f1_score(Y_test, Y_pred_rf)\n",
        "jaccard_rf = jaccard_score(Y_test, Y_pred_rf)\n",
        "\n",
        "# Create a table for the evaluation metrics\n",
        "table_rf = [[\"Metric\", \"Value\"],\n",
        "             [\"Accuracy\", accuracy_rf],\n",
        "             [\"Precision\", precision_rf],\n",
        "             [\"Recall\", recall_rf],\n",
        "             [\"F1 Score\", f1_rf],\n",
        "             [\"Jaccard Index\", jaccard_rf]]\n",
        "\n",
        "# Print the table for Random Forest\n",
        "print(tabulate(table_rf, headers=\"firstrow\", tablefmt=\"fancy_grid\"))\n"
      ]
    },
    {
      "cell_type": "code",
      "execution_count": 28,
      "metadata": {
        "colab": {
          "base_uri": "https://localhost:8080/"
        },
        "id": "73uP7LHImACq",
        "outputId": "906c4c0d-f14c-40b7-8e75-488b484c0092"
      },
      "outputs": [
        {
          "name": "stdout",
          "output_type": "stream",
          "text": [
            "╒═════════════════════╤════════════╤═════════════╤══════════╤════════════╤═════════════════╕\n",
            "│ Model               │   Accuracy │   Precision │   Recall │   F1 Score │   Jaccard Index │\n",
            "╞═════════════════════╪════════════╪═════════════╪══════════╪════════════╪═════════════════╡\n",
            "│ Logistic Regression │   0.644699 │    0.5125   │ 0.325397 │   0.398058 │        0.248485 │\n",
            "├─────────────────────┼────────────┼─────────────┼──────────┼────────────┼─────────────────┤\n",
            "│ KNN                 │   0.670487 │    0.553398 │ 0.452381 │   0.497817 │        0.331395 │\n",
            "├─────────────────────┼────────────┼─────────────┼──────────┼────────────┼─────────────────┤\n",
            "│ Random Forest       │   0.653295 │    0.527473 │ 0.380952 │   0.442396 │        0.284024 │\n",
            "├─────────────────────┼────────────┼─────────────┼──────────┼────────────┼─────────────────┤\n",
            "│ SVM                 │   0.667622 │    0.708333 │ 0.134921 │   0.226667 │        0.12782  │\n",
            "╘═════════════════════╧════════════╧═════════════╧══════════╧════════════╧═════════════════╛\n"
          ]
        }
      ],
      "source": [
        "# Calculate evaluation metrics for Logistic Regression\n",
        "metrics_lr = [\"Logistic Regression\",\n",
        "              accuracy_lr,\n",
        "              precision_lr,\n",
        "              recall_lr,\n",
        "              f1_lr,\n",
        "              jaccard_lr]\n",
        "\n",
        "# Calculate evaluation metrics for KNN\n",
        "metrics_knn = [\"KNN\",\n",
        "               accuracy_knn,\n",
        "               precision_knn,\n",
        "               recall_knn,\n",
        "               f1_knn,\n",
        "               jaccard_knn]\n",
        "\n",
        "# Calculate evaluation metrics for Random Forest\n",
        "metrics_rf = [\"Random Forest\",\n",
        "              accuracy_rf,\n",
        "              precision_rf,\n",
        "              recall_rf,\n",
        "              f1_rf,\n",
        "              jaccard_rf]\n",
        "\n",
        "# Calculate evaluation metrics for SVM\n",
        "metrics_svm = [\"SVM\",\n",
        "               accuracy_svm,\n",
        "               precision_svm,\n",
        "               recall_svm,\n",
        "               f1_svm,\n",
        "               jaccard_svm]\n",
        "\n",
        "\n",
        "\n",
        "# Combine all metrics into a single table\n",
        "combined_table = [metrics_lr, metrics_knn, metrics_rf, metrics_svm]\n",
        "\n",
        "# Print the combined table\n",
        "print(tabulate(combined_table, headers=[\"Model\", \"Accuracy\", \"Precision\", \"Recall\", \"F1 Score\", \"Jaccard Index\"], tablefmt=\"fancy_grid\"))"
      ]
    },
    {
      "cell_type": "markdown",
      "metadata": {
        "id": "aKMhsXpBrPK9"
      },
      "source": [
        "# With C and with D"
      ]
    },
    {
      "cell_type": "markdown",
      "metadata": {
        "id": "5ZmksovNny5P"
      },
      "source": [
        "WITH C AND WITH D"
      ]
    },
    {
      "cell_type": "code",
      "execution_count": 29,
      "metadata": {
        "colab": {
          "base_uri": "https://localhost:8080/",
          "height": 1000
        },
        "id": "EZzBamffle1c",
        "outputId": "a2bbdd60-5fab-4541-d98c-059a5d032969"
      },
      "outputs": [
        {
          "name": "stdout",
          "output_type": "stream",
          "text": [
            "Counts before balancing:\n",
            "FutureCHD\n",
            "0    1101\n",
            "1     644\n",
            "Name: count, dtype: int64\n"
          ]
        },
        {
          "name": "stderr",
          "output_type": "stream",
          "text": [
            "C:\\Users\\spbis\\AppData\\Local\\Temp\\ipykernel_15000\\1910077762.py:13: FutureWarning: \n",
            "\n",
            "Passing `palette` without assigning `hue` is deprecated and will be removed in v0.14.0. Assign the `x` variable to `hue` and set `legend=False` for the same effect.\n",
            "\n",
            "  sns.countplot(x='FutureCHD', data=df, palette='Set1')\n"
          ]
        },
        {
          "data": {
            "image/png": "[encoded data removed]",
            "text/plain": [
              "<Figure size 1000x600 with 1 Axes>"
            ]
          },
          "metadata": {},
          "output_type": "display_data"
        },
        {
          "name": "stdout",
          "output_type": "stream",
          "text": [
            "\n",
            "Counts after balancing:\n",
            "FutureCHD\n",
            "1    1101\n",
            "0    1101\n",
            "Name: count, dtype: int64\n"
          ]
        },
        {
          "name": "stderr",
          "output_type": "stream",
          "text": [
            "C:\\Users\\spbis\\AppData\\Local\\Temp\\ipykernel_15000\\1910077762.py:44: FutureWarning: \n",
            "\n",
            "Passing `palette` without assigning `hue` is deprecated and will be removed in v0.14.0. Assign the `x` variable to `hue` and set `legend=False` for the same effect.\n",
            "\n",
            "  sns.countplot(x='FutureCHD', data=df_balanced, palette='Set1')\n"
          ]
        },
        {
          "data": {
            "image/png": "[encoded data removed]",
            "text/plain": [
              "<Figure size 1000x600 with 1 Axes>"
            ]
          },
          "metadata": {},
          "output_type": "display_data"
        }
      ],
      "source": [
        "import pandas as pd\n",
        "from imblearn.over_sampling import SMOTE\n",
        "import matplotlib.pyplot as plt\n",
        "import seaborn as sns\n",
        "\n",
        "# Display counts of 0s and 1s in FutureCHD before balancing\n",
        "before_counts = df['FutureCHD'].value_counts()\n",
        "print(\"Counts before balancing:\")\n",
        "print(before_counts)\n",
        "\n",
        "# Plotting counts before balancing\n",
        "plt.figure(figsize=(10, 6))\n",
        "sns.countplot(x='FutureCHD', data=df, palette='Set1')\n",
        "plt.title('Counts of FutureCHD Before Balancing')\n",
        "plt.xlabel('FutureCHD')\n",
        "plt.ylabel('Count')\n",
        "plt.xticks([0, 1], ['No Coronary Heart Disease', 'Coronary Heart Disease'])\n",
        "\n",
        "# Adding counts as text on the plot for before balancing\n",
        "for i, count in enumerate(before_counts):\n",
        "    plt.text(i, count+10, str(count), ha='center', fontsize=12)\n",
        "\n",
        "plt.show()\n",
        "\n",
        "# Separate features and target variable\n",
        "X = df2.drop('FutureCHD', axis=1)\n",
        "y = df2['FutureCHD']\n",
        "\n",
        "# Apply SMOTE to balance the data\n",
        "smote = SMOTE(random_state=42)\n",
        "X_smote, y_smote = smote.fit_resample(X, y)\n",
        "\n",
        "# Convert numpy arrays back to DataFrame\n",
        "df_balanced = pd.DataFrame(X_smote, columns=X.columns)\n",
        "df_balanced['FutureCHD'] = y_smote\n",
        "\n",
        "# Display counts of 0s and 1s in FutureCHD after balancing\n",
        "after_counts = df_balanced['FutureCHD'].value_counts()\n",
        "print(\"\\nCounts after balancing:\")\n",
        "print(after_counts)\n",
        "\n",
        "# Plotting counts after balancing\n",
        "plt.figure(figsize=(10, 6))\n",
        "sns.countplot(x='FutureCHD', data=df_balanced, palette='Set1')\n",
        "plt.title('Counts of FutureCHD After Balancing (SMOTE)')\n",
        "plt.xlabel('FutureCHD')\n",
        "plt.ylabel('Count')\n",
        "plt.xticks([0, 1], ['No Coronary Heart Disease', 'Coronary Heart Disease'])\n",
        "\n",
        "# Adding counts as text on the plot for after balancing\n",
        "for i, count in enumerate(after_counts):\n",
        "    plt.text(i, count+10, str(count), ha='center', fontsize=12)\n",
        "\n",
        "plt.show()\n"
      ]
    },
    {
      "cell_type": "code",
      "execution_count": 17,
      "metadata": {
        "id": "jN_xc_FknwXT"
      },
      "outputs": [],
      "source": [
        "df2=df_balanced"
      ]
    },
    {
      "cell_type": "code",
      "execution_count": 30,
      "metadata": {
        "id": "G7-HcMOxn5R_"
      },
      "outputs": [],
      "source": [
        "# separate input and output\n",
        "X=df2.drop(columns=['FutureCHD'])\n",
        "Y=df2['FutureCHD']\n",
        "\n",
        "# split the data for training and testing\n",
        "from sklearn.model_selection import train_test_split\n",
        "X_train,X_test,Y_train,Y_test=train_test_split(X,Y,test_size=0.2, random_state=42)"
      ]
    },
    {
      "cell_type": "code",
      "execution_count": 31,
      "metadata": {
        "colab": {
          "base_uri": "https://localhost:8080/"
        },
        "id": "mqtbfrCmoA68",
        "outputId": "94e8fa23-7f53-415f-eb01-472d8177a374"
      },
      "outputs": [
        {
          "name": "stdout",
          "output_type": "stream",
          "text": [
            "╒═══════════════╤══════════╕\n",
            "│ Metric        │    Value │\n",
            "╞═══════════════╪══════════╡\n",
            "│ Accuracy      │ 0.644699 │\n",
            "├───────────────┼──────────┤\n",
            "│ Precision     │ 0.5125   │\n",
            "├───────────────┼──────────┤\n",
            "│ Recall        │ 0.325397 │\n",
            "├───────────────┼──────────┤\n",
            "│ F1 Score      │ 0.398058 │\n",
            "├───────────────┼──────────┤\n",
            "│ Jaccard Index │ 0.248485 │\n",
            "╘═══════════════╧══════════╛\n"
          ]
        },
        {
          "name": "stderr",
          "output_type": "stream",
          "text": [
            "c:\\Users\\spbis\\AppData\\Local\\Programs\\Python\\Python312\\Lib\\site-packages\\sklearn\\linear_model\\_logistic.py:469: ConvergenceWarning: lbfgs failed to converge (status=1):\n",
            "STOP: TOTAL NO. of ITERATIONS REACHED LIMIT.\n",
            "\n",
            "Increase the number of iterations (max_iter) or scale the data as shown in:\n",
            "    https://scikit-learn.org/stable/modules/preprocessing.html\n",
            "Please also refer to the documentation for alternative solver options:\n",
            "    https://scikit-learn.org/stable/modules/linear_model.html#logistic-regression\n",
            "  n_iter_i = _check_optimize_result(\n"
          ]
        }
      ],
      "source": [
        "# Logistic Regression\n",
        "\n",
        "from sklearn.linear_model import LogisticRegression\n",
        "\n",
        "\n",
        "# Initialize and train the Logistic Regression model\n",
        "logistic_regression = LogisticRegression(random_state=42)\n",
        "logistic_regression.fit(X_train, Y_train)\n",
        "\n",
        "# Predictions\n",
        "Y_pred_lr = logistic_regression.predict(X_test)\n",
        "\n",
        "# Calculate evaluation metrics for Logistic Regression\n",
        "accuracy_lr = accuracy_score(Y_test, Y_pred_lr)\n",
        "precision_lr = precision_score(Y_test, Y_pred_lr)\n",
        "recall_lr = recall_score(Y_test, Y_pred_lr)\n",
        "f1_lr = f1_score(Y_test, Y_pred_lr)\n",
        "jaccard_lr = jaccard_score(Y_test, Y_pred_lr)\n",
        "\n",
        "table = [[\"Metric\", \"Value\"],\n",
        "         [\"Accuracy\", accuracy_lr],\n",
        "         [\"Precision\", precision_lr],\n",
        "         [\"Recall\", recall_lr],\n",
        "         [\"F1 Score\", f1_lr],\n",
        "         [\"Jaccard Index\", jaccard_lr]]\n",
        "\n",
        "# Print the table\n",
        "print(tabulate(table, headers=\"firstrow\", tablefmt=\"fancy_grid\"))"
      ]
    },
    {
      "cell_type": "code",
      "execution_count": 32,
      "metadata": {
        "colab": {
          "base_uri": "https://localhost:8080/"
        },
        "id": "rlgiWv_ioC20",
        "outputId": "2b322a1a-583f-4d45-c60a-cd873bcf9a5f"
      },
      "outputs": [
        {
          "name": "stdout",
          "output_type": "stream",
          "text": [
            "╒═══════════════╤══════════╕\n",
            "│ Metric        │    Value │\n",
            "╞═══════════════╪══════════╡\n",
            "│ Accuracy      │ 0.670487 │\n",
            "├───────────────┼──────────┤\n",
            "│ Precision     │ 0.553398 │\n",
            "├───────────────┼──────────┤\n",
            "│ Recall        │ 0.452381 │\n",
            "├───────────────┼──────────┤\n",
            "│ F1 Score      │ 0.497817 │\n",
            "├───────────────┼──────────┤\n",
            "│ Jaccard Index │ 0.331395 │\n",
            "╘═══════════════╧══════════╛\n"
          ]
        }
      ],
      "source": [
        "# KNN\n",
        "\n",
        "from sklearn.neighbors import KNeighborsClassifier\n",
        "\n",
        "# Initialize and train the KNN model\n",
        "knn = KNeighborsClassifier()\n",
        "knn.fit(X_train, Y_train)\n",
        "\n",
        "# Predictions\n",
        "Y_pred_knn = knn.predict(X_test)\n",
        "\n",
        "# Calculate evaluation metrics for KNN\n",
        "accuracy_knn = accuracy_score(Y_test, Y_pred_knn)\n",
        "precision_knn = precision_score(Y_test, Y_pred_knn)\n",
        "recall_knn = recall_score(Y_test, Y_pred_knn)\n",
        "f1_knn = f1_score(Y_test, Y_pred_knn)\n",
        "jaccard_knn = jaccard_score(Y_test, Y_pred_knn)\n",
        "\n",
        "# Create a table for the evaluation metrics\n",
        "table_knn = [[\"Metric\", \"Value\"],\n",
        "             [\"Accuracy\", accuracy_knn],\n",
        "             [\"Precision\", precision_knn],\n",
        "             [\"Recall\", recall_knn],\n",
        "             [\"F1 Score\", f1_knn],\n",
        "             [\"Jaccard Index\", jaccard_knn]]\n",
        "\n",
        "# Print the table for KNN\n",
        "print(tabulate(table_knn, headers=\"firstrow\", tablefmt=\"fancy_grid\"))\n"
      ]
    },
    {
      "cell_type": "code",
      "execution_count": 33,
      "metadata": {
        "colab": {
          "base_uri": "https://localhost:8080/"
        },
        "id": "gbP4JZrEoEB0",
        "outputId": "dca1cdc2-a257-410c-f6ea-8a25bd49aade"
      },
      "outputs": [
        {
          "name": "stdout",
          "output_type": "stream",
          "text": [
            "╒═══════════════╤══════════╕\n",
            "│ Metric        │    Value │\n",
            "╞═══════════════╪══════════╡\n",
            "│ Accuracy      │ 0.667622 │\n",
            "├───────────────┼──────────┤\n",
            "│ Precision     │ 0.708333 │\n",
            "├───────────────┼──────────┤\n",
            "│ Recall        │ 0.134921 │\n",
            "├───────────────┼──────────┤\n",
            "│ F1 Score      │ 0.226667 │\n",
            "├───────────────┼──────────┤\n",
            "│ Jaccard Index │ 0.12782  │\n",
            "╘═══════════════╧══════════╛\n"
          ]
        }
      ],
      "source": [
        " # SVM\n",
        "\n",
        " from sklearn.svm import SVC\n",
        "\n",
        "# Initialize and train the SVM model\n",
        "svm_model = SVC(random_state=42)\n",
        "svm_model.fit(X_train, Y_train)\n",
        "\n",
        "# Predictions\n",
        "Y_pred_svm = svm_model.predict(X_test)\n",
        "\n",
        "# Calculate evaluation metrics for SVM\n",
        "accuracy_svm = accuracy_score(Y_test, Y_pred_svm)\n",
        "precision_svm = precision_score(Y_test, Y_pred_svm)\n",
        "recall_svm = recall_score(Y_test, Y_pred_svm)\n",
        "f1_svm = f1_score(Y_test, Y_pred_svm)\n",
        "jaccard_svm = jaccard_score(Y_test, Y_pred_svm)\n",
        "\n",
        "# Create a table for the evaluation metrics\n",
        "table_svm = [[\"Metric\", \"Value\"],\n",
        "             [\"Accuracy\", accuracy_svm],\n",
        "             [\"Precision\", precision_svm],\n",
        "             [\"Recall\", recall_svm],\n",
        "             [\"F1 Score\", f1_svm],\n",
        "             [\"Jaccard Index\", jaccard_svm]]\n",
        "\n",
        "# Print the table for SVM\n",
        "print(tabulate(table_svm, headers=\"firstrow\", tablefmt=\"fancy_grid\"))\n"
      ]
    },
    {
      "cell_type": "code",
      "execution_count": 34,
      "metadata": {
        "colab": {
          "base_uri": "https://localhost:8080/"
        },
        "id": "zBoIzpwPoG-z",
        "outputId": "957ff860-7452-4a5b-eda6-5ed7b19b9208"
      },
      "outputs": [
        {
          "name": "stdout",
          "output_type": "stream",
          "text": [
            "╒═══════════════╤══════════╕\n",
            "│ Metric        │    Value │\n",
            "╞═══════════════╪══════════╡\n",
            "│ Accuracy      │ 0.653295 │\n",
            "├───────────────┼──────────┤\n",
            "│ Precision     │ 0.527473 │\n",
            "├───────────────┼──────────┤\n",
            "│ Recall        │ 0.380952 │\n",
            "├───────────────┼──────────┤\n",
            "│ F1 Score      │ 0.442396 │\n",
            "├───────────────┼──────────┤\n",
            "│ Jaccard Index │ 0.284024 │\n",
            "╘═══════════════╧══════════╛\n"
          ]
        }
      ],
      "source": [
        "# Random Forest Classifier\n",
        "\n",
        "from sklearn.ensemble import RandomForestClassifier\n",
        "\n",
        "\n",
        "# Initialize and train the Random Forest model\n",
        "random_forest = RandomForestClassifier(random_state=42)\n",
        "random_forest.fit(X_train, Y_train)\n",
        "\n",
        "# Predictions\n",
        "Y_pred_rf = random_forest.predict(X_test)\n",
        "\n",
        "# Calculate evaluation metrics for Random Forest\n",
        "accuracy_rf = accuracy_score(Y_test, Y_pred_rf)\n",
        "precision_rf = precision_score(Y_test, Y_pred_rf)\n",
        "recall_rf = recall_score(Y_test, Y_pred_rf)\n",
        "f1_rf = f1_score(Y_test, Y_pred_rf)\n",
        "jaccard_rf = jaccard_score(Y_test, Y_pred_rf)\n",
        "\n",
        "# Create a table for the evaluation metrics\n",
        "table_rf = [[\"Metric\", \"Value\"],\n",
        "             [\"Accuracy\", accuracy_rf],\n",
        "             [\"Precision\", precision_rf],\n",
        "             [\"Recall\", recall_rf],\n",
        "             [\"F1 Score\", f1_rf],\n",
        "             [\"Jaccard Index\", jaccard_rf]]\n",
        "\n",
        "# Print the table for Random Forest\n",
        "print(tabulate(table_rf, headers=\"firstrow\", tablefmt=\"fancy_grid\"))\n"
      ]
    },
    {
      "cell_type": "code",
      "execution_count": 23,
      "metadata": {
        "id": "QpWuraTdFEIp",
        "outputId": "c9e7db59-6093-40b0-ae4d-7ff8b6997611"
      },
      "outputs": [
        {
          "name": "stdout",
          "output_type": "stream",
          "text": [
            "Fitting 5 folds for each of 108 candidates, totalling 540 fits\n",
            "╒═══════════════╤══════════╕\n",
            "│ Metric        │    Value │\n",
            "╞═══════════════╪══════════╡\n",
            "│ Accuracy      │ 0.86946  │\n",
            "├───────────────┼──────────┤\n",
            "│ Precision     │ 0.8646   │\n",
            "├───────────────┼──────────┤\n",
            "│ Recall        │ 0.870279 │\n",
            "├───────────────┼──────────┤\n",
            "│ F1 Score      │ 0.86743  │\n",
            "├───────────────┼──────────┤\n",
            "│ Jaccard Index │ 0.765896 │\n",
            "╘═══════════════╧══════════╛\n",
            "\n",
            "Best Parameters found by GridSearchCV:\n",
            "{'bootstrap': False, 'max_depth': None, 'min_samples_leaf': 1, 'min_samples_split': 2, 'n_estimators': 200}\n"
          ]
        }
      ],
      "source": [
        "#Hypertuning the RF\n",
        "from sklearn.model_selection import GridSearchCV\n",
        "\n",
        "\n",
        "# Assuming X_train, X_test, Y_train, Y_test are already defined\n",
        "\n",
        "# Define the parameter grid for Random Forest\n",
        "param_grid = {\n",
        "    'n_estimators': [100, 200],\n",
        "    'max_depth': [10, 20, None],\n",
        "    'min_samples_split': [2, 5, 10],\n",
        "    'min_samples_leaf': [1, 2, 4],\n",
        "    'bootstrap': [True, False]\n",
        "}\n",
        "\n",
        "# Initialize the Random Forest classifier\n",
        "random_forest = RandomForestClassifier(random_state=42)\n",
        "\n",
        "# Perform GridSearchCV to find the best parameters\n",
        "grid_search = GridSearchCV(estimator=random_forest, param_grid=param_grid, cv=5, scoring='accuracy', verbose=2, n_jobs=-1)\n",
        "grid_search.fit(X_train, Y_train)\n",
        "\n",
        "# Get the best estimator (best model)\n",
        "best_rf_clf = grid_search.best_estimator_\n",
        "\n",
        "# Make predictions using the best model\n",
        "Y_pred_rf = best_rf_clf.predict(X_test)\n",
        "\n",
        "# Calculate evaluation metrics for the best model\n",
        "accuracy_rf_1 = accuracy_score(Y_test, Y_pred_rf)\n",
        "precision_rf_1 = precision_score(Y_test, Y_pred_rf)\n",
        "recall_rf_1 = recall_score(Y_test, Y_pred_rf)\n",
        "f1_rf_1 = f1_score(Y_test, Y_pred_rf)\n",
        "jaccard_rf_1 = jaccard_score(Y_test, Y_pred_rf)\n",
        "\n",
        "# Create a table for the evaluation metrics\n",
        "table_rf = [[\"Metric\", \"Value\"],\n",
        "            [\"Accuracy\", accuracy_rf_1],\n",
        "            [\"Precision\", precision_rf_1],\n",
        "            [\"Recall\", recall_rf_1],\n",
        "            [\"F1 Score\", f1_rf_1],\n",
        "            [\"Jaccard Index\", jaccard_rf_1]]\n",
        "\n",
        "# Print the table for Random Forest\n",
        "print(tabulate(table_rf, headers=\"firstrow\", tablefmt=\"fancy_grid\"))\n",
        "\n",
        "# Print the best parameters found by GridSearchCV\n",
        "print(\"\\nBest Parameters found by GridSearchCV:\")\n",
        "print(grid_search.best_params_)\n"
      ]
    },
    {
      "cell_type": "code",
      "execution_count": 35,
      "metadata": {
        "colab": {
          "base_uri": "https://localhost:8080/"
        },
        "id": "gqfvIjzwoYYg",
        "outputId": "a5887a16-8378-4c3e-d5e3-95202767ba9d"
      },
      "outputs": [
        {
          "name": "stdout",
          "output_type": "stream",
          "text": [
            "╒═════════════════════╤════════════╤═════════════╤══════════╤════════════╤═════════════════╕\n",
            "│ Model               │   Accuracy │   Precision │   Recall │   F1 Score │   Jaccard Index │\n",
            "╞═════════════════════╪════════════╪═════════════╪══════════╪════════════╪═════════════════╡\n",
            "│ Logistic Regression │   0.644699 │    0.5125   │ 0.325397 │   0.398058 │        0.248485 │\n",
            "├─────────────────────┼────────────┼─────────────┼──────────┼────────────┼─────────────────┤\n",
            "│ KNN                 │   0.670487 │    0.553398 │ 0.452381 │   0.497817 │        0.331395 │\n",
            "├─────────────────────┼────────────┼─────────────┼──────────┼────────────┼─────────────────┤\n",
            "│ Random Forest       │   0.653295 │    0.527473 │ 0.380952 │   0.442396 │        0.284024 │\n",
            "├─────────────────────┼────────────┼─────────────┼──────────┼────────────┼─────────────────┤\n",
            "│ SVM                 │   0.667622 │    0.708333 │ 0.134921 │   0.226667 │        0.12782  │\n",
            "╘═════════════════════╧════════════╧═════════════╧══════════╧════════════╧═════════════════╛\n"
          ]
        }
      ],
      "source": [
        "# Calculate evaluation metrics for Logistic Regression\n",
        "metrics_lr = [\"Logistic Regression\",\n",
        "              accuracy_lr,\n",
        "              precision_lr,\n",
        "              recall_lr,\n",
        "              f1_lr,\n",
        "              jaccard_lr]\n",
        "\n",
        "# Calculate evaluation metrics for KNN\n",
        "metrics_knn = [\"KNN\",\n",
        "               accuracy_knn,\n",
        "               precision_knn,\n",
        "               recall_knn,\n",
        "               f1_knn,\n",
        "               jaccard_knn]\n",
        "\n",
        "# Calculate evaluation metrics for Random Forest\n",
        "metrics_rf = [\"Random Forest\",\n",
        "              accuracy_rf,\n",
        "              precision_rf,\n",
        "              recall_rf,\n",
        "              f1_rf,\n",
        "              jaccard_rf]\n",
        "\n",
        "# Calculate evaluation metrics for SVM\n",
        "metrics_svm = [\"SVM\",\n",
        "               accuracy_svm,\n",
        "               precision_svm,\n",
        "               recall_svm,\n",
        "               f1_svm,\n",
        "               jaccard_svm]\n",
        "\n",
        "\n",
        "\n",
        "# Combine all metrics into a single table\n",
        "combined_table = [metrics_lr, metrics_knn, metrics_rf, metrics_svm]\n",
        "\n",
        "# Print the combined table\n",
        "print(tabulate(combined_table, headers=[\"Model\", \"Accuracy\", \"Precision\", \"Recall\", \"F1 Score\", \"Jaccard Index\"], tablefmt=\"fancy_grid\"))"
      ]
    },
    {
      "cell_type": "code",
      "execution_count": 25,
      "metadata": {
        "colab": {
          "base_uri": "https://localhost:8080/",
          "height": 424
        },
        "id": "DAFwZPvLqGYs",
        "outputId": "d74a6576-bd91-4c9b-ed77-af88ced2516b"
      },
      "outputs": [
        {
          "data": {
            "text/html": [
              "<div>\n",
              "<style scoped>\n",
              "    .dataframe tbody tr th:only-of-type {\n",
              "        vertical-align: middle;\n",
              "    }\n",
              "\n",
              "    .dataframe tbody tr th {\n",
              "        vertical-align: top;\n",
              "    }\n",
              "\n",
              "    .dataframe thead th {\n",
              "        text-align: right;\n",
              "    }\n",
              "</style>\n",
              "<table border=\"1\" class=\"dataframe\">\n",
              "  <thead>\n",
              "    <tr style=\"text-align: right;\">\n",
              "      <th></th>\n",
              "      <th>gender</th>\n",
              "      <th>age</th>\n",
              "      <th>currentSmoker</th>\n",
              "      <th>BPMeds</th>\n",
              "      <th>prevalentStroke</th>\n",
              "      <th>prevalentHyp</th>\n",
              "      <th>diabetes</th>\n",
              "      <th>totChol</th>\n",
              "      <th>sysBP</th>\n",
              "      <th>BMI</th>\n",
              "      <th>heartRate</th>\n",
              "      <th>glucose</th>\n",
              "      <th>FutureCHD</th>\n",
              "    </tr>\n",
              "  </thead>\n",
              "  <tbody>\n",
              "    <tr>\n",
              "      <th>0</th>\n",
              "      <td>1</td>\n",
              "      <td>39</td>\n",
              "      <td>0</td>\n",
              "      <td>0.000000</td>\n",
              "      <td>0</td>\n",
              "      <td>0</td>\n",
              "      <td>0</td>\n",
              "      <td>195.000000</td>\n",
              "      <td>106.000000</td>\n",
              "      <td>26.970000</td>\n",
              "      <td>80.000000</td>\n",
              "      <td>77.000000</td>\n",
              "      <td>0</td>\n",
              "    </tr>\n",
              "    <tr>\n",
              "      <th>1</th>\n",
              "      <td>0</td>\n",
              "      <td>46</td>\n",
              "      <td>0</td>\n",
              "      <td>0.000000</td>\n",
              "      <td>0</td>\n",
              "      <td>0</td>\n",
              "      <td>0</td>\n",
              "      <td>250.000000</td>\n",
              "      <td>121.000000</td>\n",
              "      <td>28.730000</td>\n",
              "      <td>95.000000</td>\n",
              "      <td>76.000000</td>\n",
              "      <td>0</td>\n",
              "    </tr>\n",
              "    <tr>\n",
              "      <th>2</th>\n",
              "      <td>1</td>\n",
              "      <td>48</td>\n",
              "      <td>1</td>\n",
              "      <td>0.000000</td>\n",
              "      <td>0</td>\n",
              "      <td>0</td>\n",
              "      <td>0</td>\n",
              "      <td>245.000000</td>\n",
              "      <td>127.500000</td>\n",
              "      <td>25.340000</td>\n",
              "      <td>75.000000</td>\n",
              "      <td>70.000000</td>\n",
              "      <td>0</td>\n",
              "    </tr>\n",
              "    <tr>\n",
              "      <th>3</th>\n",
              "      <td>0</td>\n",
              "      <td>61</td>\n",
              "      <td>1</td>\n",
              "      <td>0.000000</td>\n",
              "      <td>0</td>\n",
              "      <td>1</td>\n",
              "      <td>0</td>\n",
              "      <td>225.000000</td>\n",
              "      <td>150.000000</td>\n",
              "      <td>28.580000</td>\n",
              "      <td>65.000000</td>\n",
              "      <td>103.000000</td>\n",
              "      <td>1</td>\n",
              "    </tr>\n",
              "    <tr>\n",
              "      <th>4</th>\n",
              "      <td>0</td>\n",
              "      <td>46</td>\n",
              "      <td>1</td>\n",
              "      <td>0.000000</td>\n",
              "      <td>0</td>\n",
              "      <td>0</td>\n",
              "      <td>0</td>\n",
              "      <td>285.000000</td>\n",
              "      <td>130.000000</td>\n",
              "      <td>23.100000</td>\n",
              "      <td>85.000000</td>\n",
              "      <td>85.000000</td>\n",
              "      <td>0</td>\n",
              "    </tr>\n",
              "    <tr>\n",
              "      <th>...</th>\n",
              "      <td>...</td>\n",
              "      <td>...</td>\n",
              "      <td>...</td>\n",
              "      <td>...</td>\n",
              "      <td>...</td>\n",
              "      <td>...</td>\n",
              "      <td>...</td>\n",
              "      <td>...</td>\n",
              "      <td>...</td>\n",
              "      <td>...</td>\n",
              "      <td>...</td>\n",
              "      <td>...</td>\n",
              "      <td>...</td>\n",
              "    </tr>\n",
              "    <tr>\n",
              "      <th>6197</th>\n",
              "      <td>1</td>\n",
              "      <td>58</td>\n",
              "      <td>0</td>\n",
              "      <td>0.000000</td>\n",
              "      <td>0</td>\n",
              "      <td>0</td>\n",
              "      <td>0</td>\n",
              "      <td>200.377766</td>\n",
              "      <td>115.188883</td>\n",
              "      <td>22.001757</td>\n",
              "      <td>87.401719</td>\n",
              "      <td>79.960687</td>\n",
              "      <td>1</td>\n",
              "    </tr>\n",
              "    <tr>\n",
              "      <th>6198</th>\n",
              "      <td>0</td>\n",
              "      <td>49</td>\n",
              "      <td>1</td>\n",
              "      <td>0.000000</td>\n",
              "      <td>0</td>\n",
              "      <td>0</td>\n",
              "      <td>0</td>\n",
              "      <td>261.772172</td>\n",
              "      <td>115.911311</td>\n",
              "      <td>22.887339</td>\n",
              "      <td>64.772172</td>\n",
              "      <td>57.911311</td>\n",
              "      <td>1</td>\n",
              "    </tr>\n",
              "    <tr>\n",
              "      <th>6199</th>\n",
              "      <td>0</td>\n",
              "      <td>51</td>\n",
              "      <td>0</td>\n",
              "      <td>0.003213</td>\n",
              "      <td>0</td>\n",
              "      <td>0</td>\n",
              "      <td>0</td>\n",
              "      <td>295.374140</td>\n",
              "      <td>130.564651</td>\n",
              "      <td>25.395820</td>\n",
              "      <td>56.208620</td>\n",
              "      <td>110.068092</td>\n",
              "      <td>1</td>\n",
              "    </tr>\n",
              "    <tr>\n",
              "      <th>6200</th>\n",
              "      <td>1</td>\n",
              "      <td>59</td>\n",
              "      <td>0</td>\n",
              "      <td>0.000000</td>\n",
              "      <td>0</td>\n",
              "      <td>1</td>\n",
              "      <td>0</td>\n",
              "      <td>250.675585</td>\n",
              "      <td>132.621702</td>\n",
              "      <td>25.786124</td>\n",
              "      <td>77.108138</td>\n",
              "      <td>117.702713</td>\n",
              "      <td>1</td>\n",
              "    </tr>\n",
              "    <tr>\n",
              "      <th>6201</th>\n",
              "      <td>0</td>\n",
              "      <td>54</td>\n",
              "      <td>0</td>\n",
              "      <td>0.000000</td>\n",
              "      <td>0</td>\n",
              "      <td>0</td>\n",
              "      <td>0</td>\n",
              "      <td>260.000000</td>\n",
              "      <td>125.695022</td>\n",
              "      <td>24.670813</td>\n",
              "      <td>59.149969</td>\n",
              "      <td>68.850031</td>\n",
              "      <td>1</td>\n",
              "    </tr>\n",
              "  </tbody>\n",
              "</table>\n",
              "<p>6202 rows × 13 columns</p>\n",
              "</div>"
            ],
            "text/plain": [
              "      gender  age  currentSmoker    BPMeds  prevalentStroke  prevalentHyp  \\\n",
              "0          1   39              0  0.000000                0             0   \n",
              "1          0   46              0  0.000000                0             0   \n",
              "2          1   48              1  0.000000                0             0   \n",
              "3          0   61              1  0.000000                0             1   \n",
              "4          0   46              1  0.000000                0             0   \n",
              "...      ...  ...            ...       ...              ...           ...   \n",
              "6197       1   58              0  0.000000                0             0   \n",
              "6198       0   49              1  0.000000                0             0   \n",
              "6199       0   51              0  0.003213                0             0   \n",
              "6200       1   59              0  0.000000                0             1   \n",
              "6201       0   54              0  0.000000                0             0   \n",
              "\n",
              "      diabetes     totChol       sysBP        BMI  heartRate     glucose  \\\n",
              "0            0  195.000000  106.000000  26.970000  80.000000   77.000000   \n",
              "1            0  250.000000  121.000000  28.730000  95.000000   76.000000   \n",
              "2            0  245.000000  127.500000  25.340000  75.000000   70.000000   \n",
              "3            0  225.000000  150.000000  28.580000  65.000000  103.000000   \n",
              "4            0  285.000000  130.000000  23.100000  85.000000   85.000000   \n",
              "...        ...         ...         ...        ...        ...         ...   \n",
              "6197         0  200.377766  115.188883  22.001757  87.401719   79.960687   \n",
              "6198         0  261.772172  115.911311  22.887339  64.772172   57.911311   \n",
              "6199         0  295.374140  130.564651  25.395820  56.208620  110.068092   \n",
              "6200         0  250.675585  132.621702  25.786124  77.108138  117.702713   \n",
              "6201         0  260.000000  125.695022  24.670813  59.149969   68.850031   \n",
              "\n",
              "      FutureCHD  \n",
              "0             0  \n",
              "1             0  \n",
              "2             0  \n",
              "3             1  \n",
              "4             0  \n",
              "...         ...  \n",
              "6197          1  \n",
              "6198          1  \n",
              "6199          1  \n",
              "6200          1  \n",
              "6201          1  \n",
              "\n",
              "[6202 rows x 13 columns]"
            ]
          },
          "execution_count": 25,
          "metadata": {},
          "output_type": "execute_result"
        }
      ],
      "source": [
        "df2"
      ]
    },
    {
      "cell_type": "markdown",
      "metadata": {
        "id": "ZxWB3V6XrJon"
      },
      "source": [
        "# ReliefF"
      ]
    },
    {
      "cell_type": "markdown",
      "metadata": {
        "id": "NAeochv6p7Yv"
      },
      "source": [
        "Apply reliefF"
      ]
    },
    {
      "cell_type": "code",
      "execution_count": 36,
      "metadata": {
        "colab": {
          "base_uri": "https://localhost:8080/"
        },
        "id": "hSNCtOOqqQdz",
        "outputId": "223c74f4-0a4c-481a-c8e5-c2f603352e92"
      },
      "outputs": [
        {
          "name": "stdout",
          "output_type": "stream",
          "text": [
            "Requirement already satisfied: skrebate in c:\\users\\spbis\\appdata\\local\\programs\\python\\python312\\lib\\site-packages (0.62)\n",
            "Requirement already satisfied: numpy in c:\\users\\spbis\\appdata\\local\\programs\\python\\python312\\lib\\site-packages (from skrebate) (1.26.4)\n",
            "Requirement already satisfied: scipy in c:\\users\\spbis\\appdata\\local\\programs\\python\\python312\\lib\\site-packages (from skrebate) (1.13.1)\n",
            "Requirement already satisfied: scikit-learn in c:\\users\\spbis\\appdata\\local\\programs\\python\\python312\\lib\\site-packages (from skrebate) (1.5.0)\n",
            "Requirement already satisfied: joblib>=1.2.0 in c:\\users\\spbis\\appdata\\local\\programs\\python\\python312\\lib\\site-packages (from scikit-learn->skrebate) (1.4.2)\n",
            "Requirement already satisfied: threadpoolctl>=3.1.0 in c:\\users\\spbis\\appdata\\local\\programs\\python\\python312\\lib\\site-packages (from scikit-learn->skrebate) (3.5.0)\n",
            "Note: you may need to restart the kernel to use updated packages.\n"
          ]
        }
      ],
      "source": [
        "pip install skrebate"
      ]
    },
    {
      "cell_type": "code",
      "execution_count": 61,
      "metadata": {
        "id": "x235zpccqWtd"
      },
      "outputs": [],
      "source": [
        "import pandas as pd\n",
        "import seaborn as sns\n",
        "import matplotlib.pyplot as plt\n",
        "from tabulate import tabulate\n",
        "from sklearn.metrics import accuracy_score, precision_score, recall_score, f1_score, jaccard_score\n",
        "from sklearn.metrics import confusion_matrix\n",
        "from imblearn.over_sampling import RandomOverSampler\n",
        "from skrebate import ReliefF\n",
        "import numpy as np\n",
        "from sklearn.model_selection import train_test_split\n",
        "from sklearn.impute import SimpleImputer\n",
        "from imblearn.over_sampling import SMOTE"
      ]
    },
    {
      "cell_type": "code",
      "execution_count": 72,
      "metadata": {
        "id": "4VDRLBr8p9nh"
      },
      "outputs": [],
      "source": [
        "# Separate features (X) and target (y)\n",
        "X = df2.drop(columns=['FutureCHD'])\n",
        "y = df2['FutureCHD']\n",
        "\n",
        "\n",
        "# Apply ReliefF feature selection\n",
        "reliefF = ReliefF(n_neighbors=1)\n",
        "reliefF.fit(X.values, y.values)\n",
        "\n",
        "# Get ReliefF scores and feature names\n",
        "reliefF_scores = reliefF.feature_importances_\n",
        "feature_names = X.columns"
      ]
    },
    {
      "cell_type": "code",
      "execution_count": 73,
      "metadata": {
        "colab": {
          "base_uri": "https://localhost:8080/"
        },
        "id": "bC_gnLkBqxVN",
        "outputId": "78ffb219-6ac8-4cf9-e8bc-2393229c5543"
      },
      "outputs": [
        {
          "name": "stdout",
          "output_type": "stream",
          "text": [
            "+------+-----------------+------------------------+\n",
            "| Rank |     Feature     |     ReliefF Score      |\n",
            "+------+-----------------+------------------------+\n",
            "|  1   |       BMI       |  0.023294967268818544  |\n",
            "|  2   |     totChol     |   0.015664890980695    |\n",
            "|  3   |    heartRate    |  0.01498938578086263   |\n",
            "|  4   |     glucose     |  0.011146545824571235  |\n",
            "|  5   |       age       |  0.00659800201347479   |\n",
            "|  6   |     BPMeds      |  0.006303724928366762  |\n",
            "|  7   |      sysBP      |  0.005359453216552529  |\n",
            "|  8   | prevalentStroke | 0.0040114613180515755  |\n",
            "|  9   |    diabetes     |  0.001146131805157593  |\n",
            "|  10  |     gender      |          0.0           |\n",
            "|  11  |  prevalentHyp   | -0.0005730659025787965 |\n",
            "|  12  |  currentSmoker  | -0.001146131805157593  |\n",
            "+------+-----------------+------------------------+\n",
            "['BMI', 'totChol', 'heartRate', 'glucose', 'age', 'BPMeds', 'sysBP', 'prevalentStroke', 'diabetes', 'gender', 'prevalentHyp', 'currentSmoker']\n"
          ]
        }
      ],
      "source": [
        "from tabulate import tabulate\n",
        "\n",
        "# Create a list of tuples containing feature names and their ReliefF scores\n",
        "rankings_table = [(feature, score) for feature, score in zip(X.columns, reliefF_scores)]\n",
        "\n",
        "# Sort the list based on ReliefF scores (descending order)\n",
        "rankings_table.sort(key=lambda x: x[1], reverse=True)\n",
        "\n",
        "# Assign ranks based on the sorted order\n",
        "ranked_table_with_ranks = [(i+1, feature, score) for i, (feature, score) in enumerate(rankings_table)]\n",
        "\n",
        "# Print the table using tabulate\n",
        "print(tabulate(ranked_table_with_ranks, headers=[\"Rank\", \"Feature\", \"ReliefF Score\"], tablefmt=\"pretty\"))\n",
        "\n",
        "sorted_feature_names = [feature for rank, feature, score in ranked_table_with_ranks]\n",
        "\n",
        "print(sorted_feature_names)\n"
      ]
    },
    {
      "cell_type": "code",
      "execution_count": 74,
      "metadata": {
        "colab": {
          "base_uri": "https://localhost:8080/"
        },
        "id": "183fHBZ7rNEg",
        "outputId": "43b6bc2a-ea5e-4854-e139-038bf05f8a8e"
      },
      "outputs": [
        {
          "name": "stdout",
          "output_type": "stream",
          "text": [
            "╒════╤════════════════╤════════════╤═════════════╤═══════════╤════════════╤═════════════════╕\n",
            "│    │   Feature Size │   Accuracy │   Precision │    Recall │   F1 Score │   Jaccard Index │\n",
            "╞════╪════════════════╪════════════╪═════════════╪═══════════╪════════════╪═════════════════╡\n",
            "│  0 │            0.2 │   0.647564 │    0.615385 │ 0.0634921 │   0.115108 │       0.0610687 │\n",
            "├────┼────────────────┼────────────┼─────────────┼───────────┼────────────┼─────────────────┤\n",
            "│  1 │            0.4 │   0.673352 │    0.833333 │ 0.119048  │   0.208333 │       0.116279  │\n",
            "├────┼────────────────┼────────────┼─────────────┼───────────┼────────────┼─────────────────┤\n",
            "│  2 │            0.6 │   0.653295 │    0.53012  │ 0.349206  │   0.421053 │       0.266667  │\n",
            "├────┼────────────────┼────────────┼─────────────┼───────────┼────────────┼─────────────────┤\n",
            "│  3 │            0.8 │   0.661891 │    0.545455 │ 0.380952  │   0.448598 │       0.289157  │\n",
            "├────┼────────────────┼────────────┼─────────────┼───────────┼────────────┼─────────────────┤\n",
            "│  4 │            1   │   0.647564 │    0.518987 │ 0.325397  │   0.4      │       0.25      │\n",
            "╘════╧════════════════╧════════════╧═════════════╧═══════════╧════════════╧═════════════════╛\n"
          ]
        },
        {
          "name": "stderr",
          "output_type": "stream",
          "text": [
            "c:\\Users\\spbis\\AppData\\Local\\Programs\\Python\\Python312\\Lib\\site-packages\\sklearn\\linear_model\\_logistic.py:469: ConvergenceWarning: lbfgs failed to converge (status=1):\n",
            "STOP: TOTAL NO. of ITERATIONS REACHED LIMIT.\n",
            "\n",
            "Increase the number of iterations (max_iter) or scale the data as shown in:\n",
            "    https://scikit-learn.org/stable/modules/preprocessing.html\n",
            "Please also refer to the documentation for alternative solver options:\n",
            "    https://scikit-learn.org/stable/modules/linear_model.html#logistic-regression\n",
            "  n_iter_i = _check_optimize_result(\n",
            "c:\\Users\\spbis\\AppData\\Local\\Programs\\Python\\Python312\\Lib\\site-packages\\sklearn\\linear_model\\_logistic.py:469: ConvergenceWarning: lbfgs failed to converge (status=1):\n",
            "STOP: TOTAL NO. of ITERATIONS REACHED LIMIT.\n",
            "\n",
            "Increase the number of iterations (max_iter) or scale the data as shown in:\n",
            "    https://scikit-learn.org/stable/modules/preprocessing.html\n",
            "Please also refer to the documentation for alternative solver options:\n",
            "    https://scikit-learn.org/stable/modules/linear_model.html#logistic-regression\n",
            "  n_iter_i = _check_optimize_result(\n",
            "c:\\Users\\spbis\\AppData\\Local\\Programs\\Python\\Python312\\Lib\\site-packages\\sklearn\\linear_model\\_logistic.py:469: ConvergenceWarning: lbfgs failed to converge (status=1):\n",
            "STOP: TOTAL NO. of ITERATIONS REACHED LIMIT.\n",
            "\n",
            "Increase the number of iterations (max_iter) or scale the data as shown in:\n",
            "    https://scikit-learn.org/stable/modules/preprocessing.html\n",
            "Please also refer to the documentation for alternative solver options:\n",
            "    https://scikit-learn.org/stable/modules/linear_model.html#logistic-regression\n",
            "  n_iter_i = _check_optimize_result(\n"
          ]
        }
      ],
      "source": [
        "#Logistic Regression\n",
        "\n",
        "from sklearn.linear_model import LogisticRegression\n",
        "\n",
        "\n",
        "# Sort features based on ReliefF scores\n",
        "sorted_features = [feature for _, feature in sorted(zip(reliefF_scores, feature_names), reverse=True)]\n",
        "\n",
        "# Define feature sizes\n",
        "feature_sizes = np.arange(0.2, 1.1, 0.2)\n",
        "\n",
        "# Initialize lists to store evaluation metrics and selected features\n",
        "metrics = {'Feature Size': [], 'Accuracy': [], 'Precision': [], 'Recall': [], 'F1 Score': [], 'Jaccard Index': []}\n",
        "\n",
        "for size in feature_sizes:\n",
        "    # Select top features based on size\n",
        "    num_features = int(size * len(sorted_features))\n",
        "    selected_features = sorted_features[:num_features]\n",
        "\n",
        "    # Split data into train and test sets\n",
        "    X_train, X_test, y_train, y_test = train_test_split(X[selected_features], y, test_size=0.2, random_state=42)\n",
        "\n",
        "    # Train a classifier (example: RandomForestClassifier)\n",
        "    classifier = LogisticRegression(random_state=42)\n",
        "    classifier.fit(X_train, y_train)\n",
        "\n",
        "    # Make predictions\n",
        "    y_pred = classifier.predict(X_test)\n",
        "\n",
        "    # Calculate evaluation metrics\n",
        "    accuracy = accuracy_score(y_test, y_pred)\n",
        "    precision = precision_score(y_test, y_pred)\n",
        "    recall = recall_score(y_test, y_pred)\n",
        "    f1 = f1_score(y_test, y_pred)\n",
        "    jaccard = jaccard_score(y_test, y_pred)\n",
        "\n",
        "    # Store metrics and selected features\n",
        "    metrics['Feature Size'].append(size)\n",
        "    metrics['Accuracy'].append(accuracy)\n",
        "    metrics['Precision'].append(precision)\n",
        "    metrics['Recall'].append(recall)\n",
        "    metrics['F1 Score'].append(f1)\n",
        "    metrics['Jaccard Index'].append(jaccard)\n",
        "\n",
        "\n",
        "\n",
        "# Create a DataFrame from metrics\n",
        "metrics_df = pd.DataFrame(metrics)\n",
        "\n",
        "# Display the DataFrame using tabulate\n",
        "print(tabulate(metrics_df, headers='keys', tablefmt='fancy_grid'))\n"
      ]
    },
    {
      "cell_type": "code",
      "execution_count": 75,
      "metadata": {
        "colab": {
          "base_uri": "https://localhost:8080/"
        },
        "id": "5DCPHI5duGmr",
        "outputId": "7055c624-1e0f-4bda-c42a-7903a0382f1b"
      },
      "outputs": [
        {
          "name": "stdout",
          "output_type": "stream",
          "text": [
            "╒════╤════════════════╤════════════╤═════════════╤══════════╤════════════╤═════════════════╕\n",
            "│    │   Feature Size │   Accuracy │   Precision │   Recall │   F1 Score │   Jaccard Index │\n",
            "╞════╪════════════════╪════════════╪═════════════╪══════════╪════════════╪═════════════════╡\n",
            "│  0 │            0.2 │   0.553009 │    0.3125   │ 0.198413 │   0.242718 │        0.138122 │\n",
            "├────┼────────────────┼────────────┼─────────────┼──────────┼────────────┼─────────────────┤\n",
            "│  1 │            0.4 │   0.595989 │    0.425743 │ 0.34127  │   0.378855 │        0.233696 │\n",
            "├────┼────────────────┼────────────┼─────────────┼──────────┼────────────┼─────────────────┤\n",
            "│  2 │            0.6 │   0.664756 │    0.542857 │ 0.452381 │   0.493506 │        0.327586 │\n",
            "├────┼────────────────┼────────────┼─────────────┼──────────┼────────────┼─────────────────┤\n",
            "│  3 │            0.8 │   0.664756 │    0.542857 │ 0.452381 │   0.493506 │        0.327586 │\n",
            "├────┼────────────────┼────────────┼─────────────┼──────────┼────────────┼─────────────────┤\n",
            "│  4 │            1   │   0.670487 │    0.553398 │ 0.452381 │   0.497817 │        0.331395 │\n",
            "╘════╧════════════════╧════════════╧═════════════╧══════════╧════════════╧═════════════════╛\n"
          ]
        }
      ],
      "source": [
        "#KNN\n",
        "\n",
        "from sklearn.neighbors import KNeighborsClassifier\n",
        "\n",
        "\n",
        "\n",
        "# Sort features based on ReliefF scores\n",
        "sorted_features = [feature for _, feature in sorted(zip(reliefF_scores, feature_names), reverse=True)]\n",
        "\n",
        "# Define feature sizes\n",
        "feature_sizes = np.arange(0.2, 1.1, 0.2)\n",
        "\n",
        "# Initialize lists to store evaluation metrics and selected features\n",
        "metrics = {'Feature Size': [], 'Accuracy': [], 'Precision': [], 'Recall': [], 'F1 Score': [], 'Jaccard Index': []}\n",
        "\n",
        "for size in feature_sizes:\n",
        "    # Select top features based on size\n",
        "    num_features = int(size * len(sorted_features))\n",
        "    selected_features = sorted_features[:num_features]\n",
        "\n",
        "    # Split data into train and test sets\n",
        "    X_train, X_test, y_train, y_test = train_test_split(X[selected_features], y, test_size=0.2, random_state=42)\n",
        "\n",
        "    # Train a classifier (example: RandomForestClassifier)\n",
        "    classifier = KNeighborsClassifier()\n",
        "    classifier.fit(X_train, y_train)\n",
        "\n",
        "    # Make predictions\n",
        "    y_pred = classifier.predict(X_test)\n",
        "\n",
        "    # Calculate evaluation metrics\n",
        "    accuracy = accuracy_score(y_test, y_pred)\n",
        "    precision = precision_score(y_test, y_pred)\n",
        "    recall = recall_score(y_test, y_pred)\n",
        "    f1 = f1_score(y_test, y_pred)\n",
        "    jaccard = jaccard_score(y_test, y_pred)\n",
        "\n",
        "    # Store metrics and selected features\n",
        "    metrics['Feature Size'].append(size)\n",
        "    metrics['Accuracy'].append(accuracy)\n",
        "    metrics['Precision'].append(precision)\n",
        "    metrics['Recall'].append(recall)\n",
        "    metrics['F1 Score'].append(f1)\n",
        "    metrics['Jaccard Index'].append(jaccard)\n",
        "\n",
        "\n",
        "# Create a DataFrame from metrics\n",
        "metrics_df = pd.DataFrame(metrics)\n",
        "\n",
        "# Display the DataFrame using tabulate\n",
        "print(tabulate(metrics_df, headers='keys', tablefmt='fancy_grid'))"
      ]
    },
    {
      "cell_type": "code",
      "execution_count": 76,
      "metadata": {
        "colab": {
          "base_uri": "https://localhost:8080/"
        },
        "id": "U_kkQqahuLbC",
        "outputId": "3f5ccb35-e140-40c7-ca37-dd63e879dc4a"
      },
      "outputs": [
        {
          "name": "stdout",
          "output_type": "stream",
          "text": [
            "╒════╤════════════════╤════════════╤═════════════╤══════════╤════════════╤═════════════════╕\n",
            "│    │   Feature Size │   Accuracy │   Precision │   Recall │   F1 Score │   Jaccard Index │\n",
            "╞════╪════════════════╪════════════╪═════════════╪══════════╪════════════╪═════════════════╡\n",
            "│  0 │            0.2 │   0.558739 │    0.357143 │ 0.277778 │   0.3125   │        0.185185 │\n",
            "├────┼────────────────┼────────────┼─────────────┼──────────┼────────────┼─────────────────┤\n",
            "│  1 │            0.4 │   0.647564 │    0.516484 │ 0.373016 │   0.43318  │        0.276471 │\n",
            "├────┼────────────────┼────────────┼─────────────┼──────────┼────────────┼─────────────────┤\n",
            "│  2 │            0.6 │   0.670487 │    0.56044  │ 0.404762 │   0.470046 │        0.307229 │\n",
            "├────┼────────────────┼────────────┼─────────────┼──────────┼────────────┼─────────────────┤\n",
            "│  3 │            0.8 │   0.644699 │    0.509804 │ 0.412698 │   0.45614  │        0.295455 │\n",
            "├────┼────────────────┼────────────┼─────────────┼──────────┼────────────┼─────────────────┤\n",
            "│  4 │            1   │   0.65043  │    0.521277 │ 0.388889 │   0.445455 │        0.28655  │\n",
            "╘════╧════════════════╧════════════╧═════════════╧══════════╧════════════╧═════════════════╛\n"
          ]
        }
      ],
      "source": [
        "# Random Forest Classifier\n",
        "\n",
        "from sklearn.ensemble import RandomForestClassifier\n",
        "\n",
        "\n",
        "\n",
        "# Sort features based on ReliefF scores\n",
        "sorted_features = [feature for _, feature in sorted(zip(reliefF_scores, feature_names), reverse=True)]\n",
        "\n",
        "# Define feature sizes\n",
        "feature_sizes = np.arange(0.2, 1.1, 0.2)\n",
        "\n",
        "# Initialize lists to store evaluation metrics and selected features\n",
        "metrics = {'Feature Size': [], 'Accuracy': [], 'Precision': [], 'Recall': [], 'F1 Score': [], 'Jaccard Index': []}\n",
        "\n",
        "for size in feature_sizes:\n",
        "    # Select top features based on size\n",
        "    num_features = int(size * len(sorted_features))\n",
        "    selected_features = sorted_features[:num_features]\n",
        "\n",
        "    # Split data into train and test sets\n",
        "    X_train, X_test, y_train, y_test = train_test_split(X[selected_features], y, test_size=0.2, random_state=42)\n",
        "\n",
        "    # Train a classifier (example: RandomForestClassifier)\n",
        "    classifier = RandomForestClassifier(random_state=42)\n",
        "    classifier.fit(X_train, y_train)\n",
        "\n",
        "    # Make predictions\n",
        "    y_pred = classifier.predict(X_test)\n",
        "\n",
        "    # Calculate evaluation metrics\n",
        "    accuracy = accuracy_score(y_test, y_pred)\n",
        "    precision = precision_score(y_test, y_pred)\n",
        "    recall = recall_score(y_test, y_pred)\n",
        "    f1 = f1_score(y_test, y_pred)\n",
        "    jaccard = jaccard_score(y_test, y_pred)\n",
        "\n",
        "    # Store metrics and selected features\n",
        "    metrics['Feature Size'].append(size)\n",
        "    metrics['Accuracy'].append(accuracy)\n",
        "    metrics['Precision'].append(precision)\n",
        "    metrics['Recall'].append(recall)\n",
        "    metrics['F1 Score'].append(f1)\n",
        "    metrics['Jaccard Index'].append(jaccard)\n",
        "\n",
        "\n",
        "# Create a DataFrame from metrics\n",
        "metrics_df = pd.DataFrame(metrics)\n",
        "\n",
        "# Display the DataFrame using tabulate\n",
        "print(tabulate(metrics_df, headers='keys', tablefmt='fancy_grid'))\n"
      ]
    },
    {
      "cell_type": "code",
      "execution_count": 77,
      "metadata": {
        "colab": {
          "base_uri": "https://localhost:8080/"
        },
        "id": "5YIqyT7JucVn",
        "outputId": "2a463730-8e85-4577-d914-1645b8f83d1a"
      },
      "outputs": [
        {
          "name": "stderr",
          "output_type": "stream",
          "text": [
            "c:\\Users\\spbis\\AppData\\Local\\Programs\\Python\\Python312\\Lib\\site-packages\\sklearn\\metrics\\_classification.py:1517: UndefinedMetricWarning: Precision is ill-defined and being set to 0.0 due to no predicted samples. Use `zero_division` parameter to control this behavior.\n",
            "  _warn_prf(average, modifier, f\"{metric.capitalize()} is\", len(result))\n"
          ]
        },
        {
          "name": "stdout",
          "output_type": "stream",
          "text": [
            "╒════╤════════════════╤════════════╤═════════════╤══════════╤════════════╤═════════════════╕\n",
            "│    │   Feature Size │   Accuracy │   Precision │   Recall │   F1 Score │   Jaccard Index │\n",
            "╞════╪════════════════╪════════════╪═════════════╪══════════╪════════════╪═════════════════╡\n",
            "│  0 │            0.2 │   0.638968 │    0        │ 0        │  0         │        0        │\n",
            "├────┼────────────────┼────────────┼─────────────┼──────────┼────────────┼─────────────────┤\n",
            "│  1 │            0.4 │   0.65043  │    1        │ 0.031746 │  0.0615385 │        0.031746 │\n",
            "├────┼────────────────┼────────────┼─────────────┼──────────┼────────────┼─────────────────┤\n",
            "│  2 │            0.6 │   0.661891 │    0.653846 │ 0.134921 │  0.223684  │        0.125926 │\n",
            "├────┼────────────────┼────────────┼─────────────┼──────────┼────────────┼─────────────────┤\n",
            "│  3 │            0.8 │   0.667622 │    0.708333 │ 0.134921 │  0.226667  │        0.12782  │\n",
            "├────┼────────────────┼────────────┼─────────────┼──────────┼────────────┼─────────────────┤\n",
            "│  4 │            1   │   0.667622 │    0.708333 │ 0.134921 │  0.226667  │        0.12782  │\n",
            "╘════╧════════════════╧════════════╧═════════════╧══════════╧════════════╧═════════════════╛\n"
          ]
        }
      ],
      "source": [
        "#SVM\n",
        "\n",
        "from sklearn.svm import SVC\n",
        "\n",
        "\n",
        "# Sort features based on ReliefF scores\n",
        "sorted_features = [feature for _, feature in sorted(zip(reliefF_scores, feature_names), reverse=True)]\n",
        "\n",
        "# Define feature sizes\n",
        "feature_sizes = np.arange(0.2, 1.1, 0.2)\n",
        "\n",
        "# Initialize lists to store evaluation metrics and selected features\n",
        "metrics = {'Feature Size': [], 'Accuracy': [], 'Precision': [], 'Recall': [], 'F1 Score': [], 'Jaccard Index': []}\n",
        "\n",
        "for size in feature_sizes:\n",
        "    # Select top features based on size\n",
        "    num_features = int(size * len(sorted_features))\n",
        "    selected_features = sorted_features[:num_features]\n",
        "\n",
        "    # Split data into train and test sets\n",
        "    X_train, X_test, y_train, y_test = train_test_split(X[selected_features], y, test_size=0.2, random_state=42)\n",
        "\n",
        "    # Train a classifier (example: RandomForestClassifier)\n",
        "    classifier = SVC(random_state=42)\n",
        "    classifier.fit(X_train, y_train)\n",
        "\n",
        "    # Make predictions\n",
        "    y_pred = classifier.predict(X_test)\n",
        "\n",
        "    # Calculate evaluation metrics\n",
        "    accuracy = accuracy_score(y_test, y_pred)\n",
        "    precision = precision_score(y_test, y_pred)\n",
        "    recall = recall_score(y_test, y_pred)\n",
        "    f1 = f1_score(y_test, y_pred)\n",
        "    jaccard = jaccard_score(y_test, y_pred)\n",
        "\n",
        "    # Store metrics and selected features\n",
        "    metrics['Feature Size'].append(size)\n",
        "    metrics['Accuracy'].append(accuracy)\n",
        "    metrics['Precision'].append(precision)\n",
        "    metrics['Recall'].append(recall)\n",
        "    metrics['F1 Score'].append(f1)\n",
        "    metrics['Jaccard Index'].append(jaccard)\n",
        "\n",
        "\n",
        "# Create a DataFrame from metrics\n",
        "metrics_df = pd.DataFrame(metrics)\n",
        "\n",
        "# Display the DataFrame using tabulate\n",
        "print(tabulate(metrics_df, headers='keys', tablefmt='fancy_grid'))\n"
      ]
    },
    {
      "cell_type": "markdown",
      "metadata": {
        "id": "pOmZlr1uus8f"
      },
      "source": [
        "Hypertuning"
      ]
    },
    {
      "cell_type": "code",
      "execution_count": 78,
      "metadata": {
        "colab": {
          "base_uri": "https://localhost:8080/"
        },
        "id": "xskAiKZjFEIt",
        "outputId": "a2c85d77-3f66-4bc2-8129-4f1e8a5bf17d"
      },
      "outputs": [
        {
          "name": "stdout",
          "output_type": "stream",
          "text": [
            "Fitting 5 folds for each of 108 candidates, totalling 540 fits\n",
            "Accuracy: 0.66189111747851\n",
            "Precision: 0.5476190476190477\n",
            "Recall: 0.36507936507936506\n",
            "F1 Score: 0.4380952380952381\n",
            "Jaccard Index: 0.2804878048780488\n"
          ]
        }
      ],
      "source": [
        "from sklearn.model_selection import train_test_split, GridSearchCV\n",
        "\n",
        "\n",
        "\n",
        "# Calculate the number of top features to use (60% of the total features)\n",
        "num_features_60_percent = int(0.8 * len(sorted_features))\n",
        "selected_features_60_percent = sorted_features[:num_features_60_percent]\n",
        "\n",
        "# Split data into train and test sets using the selected features\n",
        "X_train, X_test, y_train, y_test = train_test_split(X[selected_features_60_percent], y, test_size=0.2, random_state=42)\n",
        "\n",
        "# Use GridSearchCV to find the best parameters for RandomForest\n",
        "param_grid = {\n",
        "    'n_estimators': [100, 200],\n",
        "    'max_depth': [10, 20, None],\n",
        "    'min_samples_split': [2, 5, 10],\n",
        "    'min_samples_leaf': [1, 2, 4],\n",
        "    'bootstrap': [True, False]\n",
        "}\n",
        "grid_search = GridSearchCV(estimator=RandomForestClassifier(random_state=42), param_grid=param_grid, cv=5, n_jobs=-1, verbose=2)\n",
        "grid_search.fit(X_train, y_train)\n",
        "\n",
        "# Train a classifier with the best found parameters\n",
        "best_rf_clf = grid_search.best_estimator_\n",
        "best_rf_clf.fit(X_train, y_train)\n",
        "\n",
        "# Evaluate the model\n",
        "y_pred = best_rf_clf.predict(X_test)\n",
        "accuracy = accuracy_score(y_test, y_pred)\n",
        "precision = precision_score(y_test, y_pred)\n",
        "recall = recall_score(y_test, y_pred)\n",
        "f1 = f1_score(y_test, y_pred)\n",
        "jaccard = jaccard_score(y_test, y_pred)\n",
        "\n",
        "print(f\"Accuracy: {accuracy}\")\n",
        "print(f\"Precision: {precision}\")\n",
        "print(f\"Recall: {recall}\")\n",
        "print(f\"F1 Score: {f1}\")\n",
        "print(f\"Jaccard Index: {jaccard}\")\n",
        "\n",
        "\n"
      ]
    },
    {
      "cell_type": "code",
      "execution_count": 80,
      "metadata": {
        "id": "To_DwlBCmVv5"
      },
      "outputs": [
        {
          "name": "stdout",
          "output_type": "stream",
          "text": [
            "Best parameters found by GridSearchCV:\n",
            "{'bootstrap': True, 'max_depth': 10, 'min_samples_leaf': 4, 'min_samples_split': 10, 'n_estimators': 200}\n"
          ]
        }
      ],
      "source": [
        "# Print the best parameters found by GridSearchCV\n",
        "print(\"Best parameters found by GridSearchCV:\")\n",
        "print(grid_search.best_params_)\n"
      ]
    },
    {
      "cell_type": "code",
      "execution_count": 81,
      "metadata": {},
      "outputs": [
        {
          "name": "stdout",
          "output_type": "stream",
          "text": [
            "Model saved to best_random_forest_model.pkl\n"
          ]
        }
      ],
      "source": [
        "import pickle\n",
        "\n",
        "# Save the trained model to a file\n",
        "model_filename = 'best_random_forest_model.pkl'\n",
        "with open(model_filename, 'wb') as file:\n",
        "    pickle.dump(best_rf_clf, file)\n",
        "\n",
        "print(f\"Model saved to {model_filename}\")\n",
        "\n"
      ]
    },
    {
      "cell_type": "code",
      "execution_count": 82,
      "metadata": {},
      "outputs": [
        {
          "name": "stdout",
          "output_type": "stream",
          "text": [
            "['BMI', 'totChol', 'heartRate', 'glucose', 'age', 'BPMeds', 'sysBP', 'prevalentStroke', 'diabetes']\n"
          ]
        }
      ],
      "source": [
        "print(selected_features_60_percent)"
      ]
    }
  ],
  "metadata": {
    "colab": {
      "provenance": []
    },
    "kernelspec": {
      "display_name": "Python 3",
      "name": "python3"
    },
    "language_info": {
      "codemirror_mode": {
        "name": "ipython",
        "version": 3
      },
      "file_extension": ".py",
      "mimetype": "text/x-python",
      "name": "python",
      "nbconvert_exporter": "python",
      "pygments_lexer": "ipython3",
      "version": "3.12.4"
    }
  },
  "nbformat": 4,
  "nbformat_minor": 0
}
